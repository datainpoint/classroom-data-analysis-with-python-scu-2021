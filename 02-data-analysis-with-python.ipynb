{
 "cells": [
  {
   "cell_type": "markdown",
   "metadata": {
    "slideshow": {
     "slide_type": "slide"
    }
   },
   "source": [
    "# Python 程式語言初級班工作坊\n",
    "\n",
    "> Python 資料分析，東吳大學，2021-05-13\n",
    "\n",
    "[數據交點](https://www.datainpoint.com) | 郭耀仁 <yaojenkuo@datainpoint.com>"
   ]
  },
  {
   "cell_type": "markdown",
   "metadata": {
    "slideshow": {
     "slide_type": "slide"
    }
   },
   "source": [
    "## 資料分析與管線流"
   ]
  },
  {
   "cell_type": "markdown",
   "metadata": {
    "slideshow": {
     "slide_type": "subslide"
    }
   },
   "source": [
    "## 資料分析的一切都與管線流息息相關\n",
    "\n",
    "![Imgur](https://i.imgur.com/din6Ig6.png)\n",
    "\n",
    "圖片來源: <https://r4ds.had.co.nz/>"
   ]
  },
  {
   "cell_type": "markdown",
   "metadata": {
    "slideshow": {
     "slide_type": "subslide"
    }
   },
   "source": [
    "## 每個環節的意涵\n",
    "\n",
    "- Import：從常見來源將資料載入分析環境。\n",
    "- Tidy：清理與整併資料內容。\n",
    "- Transform：轉換資料為適當的樣式。\n",
    "- Visualize：探索分析資料的形狀、相關、組成與趨勢。"
   ]
  },
  {
   "cell_type": "markdown",
   "metadata": {
    "slideshow": {
     "slide_type": "subslide"
    }
   },
   "source": [
    "## 每個環節的意涵（續）\n",
    "\n",
    "- Model：預測或挖掘資料的隱含特徵。\n",
    "- Communicate：向產品、行銷與管理團隊精準且有效地傳達分析洞察。\n",
    "- Program：利用程式語言掌握管線流。"
   ]
  },
  {
   "cell_type": "markdown",
   "metadata": {
    "slideshow": {
     "slide_type": "subslide"
    }
   },
   "source": [
    "## 每個環節都有對應的第三方套件支援\n",
    "\n",
    "- [NumPy](https://numpy.org/) 可以支援 Import、Tidy、Transform 與 Model\n",
    "- [Pandas](https://pandas.pydata.org/) 可以支援 Import、Tidy、Transform 與 Visualise"
   ]
  },
  {
   "cell_type": "markdown",
   "metadata": {
    "slideshow": {
     "slide_type": "subslide"
    }
   },
   "source": [
    "## 確認分析環境能夠使用這兩個套件"
   ]
  },
  {
   "cell_type": "code",
   "execution_count": 1,
   "metadata": {},
   "outputs": [],
   "source": [
    "import numpy as np\n",
    "import pandas as pd"
   ]
  },
  {
   "cell_type": "markdown",
   "metadata": {
    "slideshow": {
     "slide_type": "subslide"
    }
   },
   "source": [
    "## 檢視這些第三方套件的版本資訊"
   ]
  },
  {
   "cell_type": "code",
   "execution_count": 2,
   "metadata": {},
   "outputs": [
    {
     "name": "stdout",
     "output_type": "stream",
     "text": [
      "1.18.4\n",
      "1.1.5\n"
     ]
    }
   ],
   "source": [
    "## Note that there are 2 underlines before and after __version__ attributes\n",
    "print(np.__version__)\n",
    "print(pd.__version__)"
   ]
  },
  {
   "cell_type": "markdown",
   "metadata": {
    "slideshow": {
     "slide_type": "slide"
    }
   },
   "source": [
    "## NumPy 快速入門"
   ]
  },
  {
   "cell_type": "markdown",
   "metadata": {
    "slideshow": {
     "slide_type": "subslide"
    }
   },
   "source": [
    "## 簡介 NumPy 套件\n",
    "\n",
    "> NumPy，Numerical Python 的簡稱，是使用 Python 進行科學計算的第三方套件，創造了一個稱為 N 維陣列（ndarray）的類別，透過 N 維陣列，可以將 Python 從一個泛用（general purposed）程式語言轉變成一個科學計算（scientific computing）程式語言，並且有豐富的統計、線性代數與隨機的函數。"
   ]
  },
  {
   "cell_type": "markdown",
   "metadata": {
    "slideshow": {
     "slide_type": "subslide"
    }
   },
   "source": [
    "## 範例資料：COVID-19 每日報告\n",
    "\n",
    "資料來源：<https://github.com/CSSEGISandData/COVID-19/tree/master/csse_covid_19_data/csse_covid_19_daily_reports>"
   ]
  },
  {
   "cell_type": "code",
   "execution_count": 3,
   "metadata": {
    "slideshow": {
     "slide_type": "subslide"
    }
   },
   "outputs": [],
   "source": [
    "import datetime\n",
    "\n",
    "def get_latest_daily_report():\n",
    "    \"\"\"\n",
    "    This function returns the latest global daily report from https://github.com/CSSEGISandData/COVID-19 and its file date.\n",
    "    \"\"\"\n",
    "    latest_date = datetime.date.today()\n",
    "    day_delta = datetime.timedelta(days=1)\n",
    "    fmt = '%m-%d-%Y'\n",
    "    while True:\n",
    "        try:\n",
    "            latest_date_fmt = latest_date.strftime(fmt)\n",
    "            csv_url = \"https://raw.githubusercontent.com/CSSEGISandData/COVID-19/master/csse_covid_19_data/csse_covid_19_daily_reports/{}.csv\".format(latest_date_fmt)\n",
    "            daily_report = pd.read_csv(csv_url)\n",
    "            print(\"載入了 {} 的每日報告。\".format(latest_date_fmt))\n",
    "            break\n",
    "        except:\n",
    "            latest_date_fmt = latest_date.strftime(fmt)\n",
    "            print(\"尚未有 {} 的每日報告。\".format(latest_date_fmt))\n",
    "            latest_date -= day_delta\n",
    "    return daily_report"
   ]
  },
  {
   "cell_type": "code",
   "execution_count": 4,
   "metadata": {
    "slideshow": {
     "slide_type": "subslide"
    }
   },
   "outputs": [
    {
     "name": "stdout",
     "output_type": "stream",
     "text": [
      "尚未有 05-10-2021 的每日報告。\n",
      "載入了 05-09-2021 的每日報告。\n"
     ]
    }
   ],
   "source": [
    "daily_report = get_latest_daily_report()"
   ]
  },
  {
   "cell_type": "markdown",
   "metadata": {
    "slideshow": {
     "slide_type": "subslide"
    }
   },
   "source": [
    "## N 維陣列可由資料框取出"
   ]
  },
  {
   "cell_type": "code",
   "execution_count": 5,
   "metadata": {},
   "outputs": [
    {
     "data": {
      "text/plain": [
       "numpy.ndarray"
      ]
     },
     "execution_count": 5,
     "metadata": {},
     "output_type": "execute_result"
    }
   ],
   "source": [
    "confirmed = daily_report['Confirmed'].values\n",
    "type(confirmed)"
   ]
  },
  {
   "cell_type": "markdown",
   "metadata": {
    "slideshow": {
     "slide_type": "subslide"
    }
   },
   "source": [
    "## N 維陣列提供兩個好用的功能\n",
    "\n",
    "- 向量化（Vectorization）運算、有時也稱為元素級別（Element-wise）運算\n",
    "- 布林索引（Boolean indexing）"
   ]
  },
  {
   "cell_type": "markdown",
   "metadata": {
    "slideshow": {
     "slide_type": "subslide"
    }
   },
   "source": [
    "## 向量化運算"
   ]
  },
  {
   "cell_type": "code",
   "execution_count": 6,
   "metadata": {},
   "outputs": [],
   "source": [
    "deaths = daily_report['Deaths'].values\n",
    "recovered = daily_report['Recovered'].values\n",
    "active = confirmed - deaths - recovered # Vectorization"
   ]
  },
  {
   "cell_type": "markdown",
   "metadata": {
    "slideshow": {
     "slide_type": "subslide"
    }
   },
   "source": [
    "## 布林索引"
   ]
  },
  {
   "cell_type": "code",
   "execution_count": 7,
   "metadata": {},
   "outputs": [
    {
     "name": "stdout",
     "output_type": "stream",
     "text": [
      "3983\n",
      "[False  True  True ... False False False]\n",
      "244\n"
     ]
    }
   ],
   "source": [
    "print(confirmed.size)\n",
    "print(confirmed > 100000)                 # Creating a boolean array\n",
    "print(confirmed[confirmed > 100000].size) # Boolean indexing"
   ]
  },
  {
   "cell_type": "markdown",
   "metadata": {
    "slideshow": {
     "slide_type": "subslide"
    }
   },
   "source": [
    "## 試著使用內建資料結構 `list` 完成前兩個任務（藉此體驗 N 維陣列的便利性）\n",
    "\n",
    "1. 計算治療中個案數。\n",
    "2. 挑選確診數超過 10 萬的觀測值。"
   ]
  },
  {
   "cell_type": "code",
   "execution_count": 8,
   "metadata": {
    "slideshow": {
     "slide_type": "subslide"
    }
   },
   "outputs": [],
   "source": [
    "# 計算治療中個案數\n",
    "confirmed = list(daily_report['Confirmed'].values)\n",
    "deaths = list(daily_report['Deaths'].values)\n",
    "recovered = list(daily_report['Recovered'].values)"
   ]
  },
  {
   "cell_type": "code",
   "execution_count": 9,
   "metadata": {
    "slideshow": {
     "slide_type": "subslide"
    }
   },
   "outputs": [],
   "source": [
    "# 挑選確診數超過 10 萬的觀測值\n",
    "confirmed = list(daily_report['Confirmed'].values)"
   ]
  },
  {
   "cell_type": "markdown",
   "metadata": {
    "slideshow": {
     "slide_type": "subslide"
    }
   },
   "source": [
    "## 除了 N 維陣列，NumPy 還附帶豐富的函數\n",
    "\n",
    "- 通用函數\n",
    "- 聚合函數\n",
    "- 隨機函數\n",
    "- 線性代數函數\n",
    "- ...etc."
   ]
  },
  {
   "cell_type": "markdown",
   "metadata": {
    "slideshow": {
     "slide_type": "subslide"
    }
   },
   "source": [
    "## 暸解更多 NumPy 提供的功能\n",
    "\n",
    "[NumPy User Guide](https://www.numpy.org/devdocs/user/index.html)"
   ]
  },
  {
   "cell_type": "markdown",
   "metadata": {
    "slideshow": {
     "slide_type": "slide"
    }
   },
   "source": [
    "## Pandas 快速入門"
   ]
  },
  {
   "cell_type": "markdown",
   "metadata": {
    "slideshow": {
     "slide_type": "subslide"
    }
   },
   "source": [
    "## 簡介 Pandas 套件\n",
    "\n",
    "> Pandas，Panel DataFrame Series 的簡稱，是在 Python 中分析表格資料的第三方套件，創造了稱為索引（Index）、序列（Series）與資料框（DataFrame）的類別，透過這些類別，可以讓 Python 在面對文字檔案、Excel 試算表與關聯式資料庫時能夠使用更直覺的觀念操作。"
   ]
  },
  {
   "cell_type": "markdown",
   "metadata": {
    "slideshow": {
     "slide_type": "subslide"
    }
   },
   "source": [
    "## 將 CSV 文字檔案讀入成為資料框\n",
    "\n",
    "- 範例資料：COVID-19 每日報告\n",
    "- 資料來源：<https://github.com/CSSEGISandData/COVID-19/tree/master/csse_covid_19_data/csse_covid_19_daily_reports>"
   ]
  },
  {
   "cell_type": "code",
   "execution_count": 10,
   "metadata": {},
   "outputs": [
    {
     "name": "stdout",
     "output_type": "stream",
     "text": [
      "尚未有 05-10-2021 的每日報告。\n",
      "載入了 05-09-2021 的每日報告。\n"
     ]
    },
    {
     "data": {
      "text/plain": [
       "pandas.core.frame.DataFrame"
      ]
     },
     "execution_count": 10,
     "metadata": {},
     "output_type": "execute_result"
    }
   ],
   "source": [
    "daily_report = get_latest_daily_report()\n",
    "type(daily_report)"
   ]
  },
  {
   "cell_type": "markdown",
   "metadata": {
    "slideshow": {
     "slide_type": "subslide"
    }
   },
   "source": [
    "## Pandas 提供三種新的資料結構\n",
    "\n",
    "- `DataFrame`\n",
    "- `Series`\n",
    "- `Index`"
   ]
  },
  {
   "cell_type": "code",
   "execution_count": 11,
   "metadata": {
    "slideshow": {
     "slide_type": "subslide"
    }
   },
   "outputs": [
    {
     "name": "stdout",
     "output_type": "stream",
     "text": [
      "<class 'pandas.core.frame.DataFrame'>\n",
      "<class 'pandas.core.series.Series'>\n",
      "<class 'pandas.core.indexes.base.Index'>\n",
      "<class 'pandas.core.indexes.range.RangeIndex'>\n"
     ]
    }
   ],
   "source": [
    "print(type(daily_report))              # DataFrame\n",
    "print(type(daily_report['Confirmed'])) # Series\n",
    "print(type(daily_report.columns))      # Index\n",
    "print(type(daily_report.index))        # Index"
   ]
  },
  {
   "cell_type": "markdown",
   "metadata": {
    "slideshow": {
     "slide_type": "subslide"
    }
   },
   "source": [
    "## 使用更直覺的觀念操作資料\n",
    "\n",
    "- 如何定義「更直覺」？\n",
    "    - 像操作試算表一樣（Spreadsheet-like）。\n",
    "    - 像使用資料庫一樣（SQL-like）。"
   ]
  },
  {
   "cell_type": "markdown",
   "metadata": {
    "slideshow": {
     "slide_type": "subslide"
    }
   },
   "source": [
    "## 基礎的資料框操作\n",
    "\n",
    "- 衍生（mutate），新增欄位到資料框中，特別是新欄位與既有欄位具有函數的輸出以及輸入關係。\n",
    "- 選擇（select），從資料框中依據名稱挑出單個或多個欄位。\n",
    "- 篩選（filter），依據判斷條件（布林值）從資料框中挑出符合（布林值為 `True`）的觀測值。"
   ]
  },
  {
   "cell_type": "markdown",
   "metadata": {
    "slideshow": {
     "slide_type": "subslide"
    }
   },
   "source": [
    "## 基礎的資料框操作（續）\n",
    "\n",
    "- 摘要（summarise），對欄位進行聚合（Aggregate）的運算將多筆觀測值總結。\n",
    "- 排序（arrange），對觀測值由小到大（遞增）或者由大到小（遞減）變動排列順序。\n",
    "- 分組（group by），將欄位依照獨一類別進行摘要。"
   ]
  },
  {
   "cell_type": "markdown",
   "metadata": {
    "slideshow": {
     "slide_type": "subslide"
    }
   },
   "source": [
    "## 衍生（mutate）\n",
    "\n",
    "治療中案例數可以用既有的欄位計算而得，常見的定義為：確診數減去死亡數再減痊癒數。\n",
    "\n",
    "\\begin{equation}\n",
    "\\text{Active} = \\text{Confirmed} - \\text{Deaths} - \\text{Recovered}\n",
    "\\end{equation}"
   ]
  },
  {
   "cell_type": "code",
   "execution_count": 12,
   "metadata": {
    "slideshow": {
     "slide_type": "subslide"
    }
   },
   "outputs": [
    {
     "data": {
      "text/plain": [
       "0        4934.0\n",
       "1       12222.0\n",
       "2       34356.0\n",
       "3         301.0\n",
       "4        3390.0\n",
       "         ...   \n",
       "3978      775.0\n",
       "3979    12008.0\n",
       "3980     2219.0\n",
       "3981      407.0\n",
       "3982      780.0\n",
       "Length: 3983, dtype: float64"
      ]
     },
     "execution_count": 12,
     "metadata": {},
     "output_type": "execute_result"
    }
   ],
   "source": [
    "active = daily_report[\"Confirmed\"] - daily_report[\"Deaths\"] - daily_report[\"Recovered\"]\n",
    "active"
   ]
  },
  {
   "cell_type": "markdown",
   "metadata": {
    "slideshow": {
     "slide_type": "subslide"
    }
   },
   "source": [
    "## 選擇（select）\n",
    "\n",
    "在中括號裡頭輸入欄位名稱可以將資料以 `Series` 外型從資料框中取出。"
   ]
  },
  {
   "cell_type": "code",
   "execution_count": 13,
   "metadata": {
    "slideshow": {
     "slide_type": "subslide"
    }
   },
   "outputs": [
    {
     "data": {
      "text/plain": [
       "0              Afghanistan\n",
       "1                  Albania\n",
       "2                  Algeria\n",
       "3                  Andorra\n",
       "4                   Angola\n",
       "               ...        \n",
       "3978               Vietnam\n",
       "3979    West Bank and Gaza\n",
       "3980                 Yemen\n",
       "3981                Zambia\n",
       "3982              Zimbabwe\n",
       "Name: Country_Region, Length: 3983, dtype: object"
      ]
     },
     "execution_count": 13,
     "metadata": {},
     "output_type": "execute_result"
    }
   ],
   "source": [
    "daily_report[\"Country_Region\"]"
   ]
  },
  {
   "cell_type": "markdown",
   "metadata": {
    "slideshow": {
     "slide_type": "subslide"
    }
   },
   "source": [
    "## 選擇（select）\n",
    "\n",
    "若想要選擇多個欄位，將多個欄位名稱以 `list` 傳入中括號。"
   ]
  },
  {
   "cell_type": "code",
   "execution_count": 14,
   "metadata": {
    "slideshow": {
     "slide_type": "subslide"
    }
   },
   "outputs": [
    {
     "data": {
      "text/html": [
       "<div>\n",
       "<style scoped>\n",
       "    .dataframe tbody tr th:only-of-type {\n",
       "        vertical-align: middle;\n",
       "    }\n",
       "\n",
       "    .dataframe tbody tr th {\n",
       "        vertical-align: top;\n",
       "    }\n",
       "\n",
       "    .dataframe thead th {\n",
       "        text-align: right;\n",
       "    }\n",
       "</style>\n",
       "<table border=\"1\" class=\"dataframe\">\n",
       "  <thead>\n",
       "    <tr style=\"text-align: right;\">\n",
       "      <th></th>\n",
       "      <th>Country_Region</th>\n",
       "      <th>Confirmed</th>\n",
       "      <th>Deaths</th>\n",
       "      <th>Recovered</th>\n",
       "    </tr>\n",
       "  </thead>\n",
       "  <tbody>\n",
       "    <tr>\n",
       "      <th>0</th>\n",
       "      <td>Afghanistan</td>\n",
       "      <td>61842</td>\n",
       "      <td>2686</td>\n",
       "      <td>54222.0</td>\n",
       "    </tr>\n",
       "    <tr>\n",
       "      <th>1</th>\n",
       "      <td>Albania</td>\n",
       "      <td>131723</td>\n",
       "      <td>2412</td>\n",
       "      <td>117089.0</td>\n",
       "    </tr>\n",
       "    <tr>\n",
       "      <th>2</th>\n",
       "      <td>Algeria</td>\n",
       "      <td>124104</td>\n",
       "      <td>3328</td>\n",
       "      <td>86420.0</td>\n",
       "    </tr>\n",
       "    <tr>\n",
       "      <th>3</th>\n",
       "      <td>Andorra</td>\n",
       "      <td>13423</td>\n",
       "      <td>127</td>\n",
       "      <td>12995.0</td>\n",
       "    </tr>\n",
       "    <tr>\n",
       "      <th>4</th>\n",
       "      <td>Angola</td>\n",
       "      <td>28740</td>\n",
       "      <td>633</td>\n",
       "      <td>24717.0</td>\n",
       "    </tr>\n",
       "    <tr>\n",
       "      <th>...</th>\n",
       "      <td>...</td>\n",
       "      <td>...</td>\n",
       "      <td>...</td>\n",
       "      <td>...</td>\n",
       "    </tr>\n",
       "    <tr>\n",
       "      <th>3978</th>\n",
       "      <td>Vietnam</td>\n",
       "      <td>3412</td>\n",
       "      <td>35</td>\n",
       "      <td>2602.0</td>\n",
       "    </tr>\n",
       "    <tr>\n",
       "      <th>3979</th>\n",
       "      <td>West Bank and Gaza</td>\n",
       "      <td>301751</td>\n",
       "      <td>3358</td>\n",
       "      <td>286385.0</td>\n",
       "    </tr>\n",
       "    <tr>\n",
       "      <th>3980</th>\n",
       "      <td>Yemen</td>\n",
       "      <td>6482</td>\n",
       "      <td>1271</td>\n",
       "      <td>2992.0</td>\n",
       "    </tr>\n",
       "    <tr>\n",
       "      <th>3981</th>\n",
       "      <td>Zambia</td>\n",
       "      <td>92092</td>\n",
       "      <td>1257</td>\n",
       "      <td>90428.0</td>\n",
       "    </tr>\n",
       "    <tr>\n",
       "      <th>3982</th>\n",
       "      <td>Zimbabwe</td>\n",
       "      <td>38419</td>\n",
       "      <td>1576</td>\n",
       "      <td>36063.0</td>\n",
       "    </tr>\n",
       "  </tbody>\n",
       "</table>\n",
       "<p>3983 rows × 4 columns</p>\n",
       "</div>"
      ],
      "text/plain": [
       "          Country_Region  Confirmed  Deaths  Recovered\n",
       "0            Afghanistan      61842    2686    54222.0\n",
       "1                Albania     131723    2412   117089.0\n",
       "2                Algeria     124104    3328    86420.0\n",
       "3                Andorra      13423     127    12995.0\n",
       "4                 Angola      28740     633    24717.0\n",
       "...                  ...        ...     ...        ...\n",
       "3978             Vietnam       3412      35     2602.0\n",
       "3979  West Bank and Gaza     301751    3358   286385.0\n",
       "3980               Yemen       6482    1271     2992.0\n",
       "3981              Zambia      92092    1257    90428.0\n",
       "3982            Zimbabwe      38419    1576    36063.0\n",
       "\n",
       "[3983 rows x 4 columns]"
      ]
     },
     "execution_count": 14,
     "metadata": {},
     "output_type": "execute_result"
    }
   ],
   "source": [
    "multiple_columns = [\"Country_Region\", \"Confirmed\", \"Deaths\", \"Recovered\"]\n",
    "daily_report[multiple_columns]"
   ]
  },
  {
   "cell_type": "markdown",
   "metadata": {
    "slideshow": {
     "slide_type": "subslide"
    }
   },
   "source": [
    "## 篩選（filter）\n",
    "\n",
    "在中括號裡頭輸入判斷條件所獲得的布林值 `Series` 可以獲得指定的觀測值。"
   ]
  },
  {
   "cell_type": "code",
   "execution_count": 15,
   "metadata": {
    "slideshow": {
     "slide_type": "subslide"
    }
   },
   "outputs": [
    {
     "data": {
      "text/plain": [
       "0       False\n",
       "1       False\n",
       "2       False\n",
       "3       False\n",
       "4       False\n",
       "        ...  \n",
       "3978    False\n",
       "3979    False\n",
       "3980    False\n",
       "3981    False\n",
       "3982    False\n",
       "Name: Country_Region, Length: 3983, dtype: bool"
      ]
     },
     "execution_count": 15,
     "metadata": {},
     "output_type": "execute_result"
    }
   ],
   "source": [
    "is_tw = daily_report['Country_Region'] == 'Taiwan*' # 台灣在哪裡\n",
    "is_tw"
   ]
  },
  {
   "cell_type": "code",
   "execution_count": 16,
   "metadata": {
    "slideshow": {
     "slide_type": "subslide"
    }
   },
   "outputs": [
    {
     "data": {
      "text/html": [
       "<div>\n",
       "<style scoped>\n",
       "    .dataframe tbody tr th:only-of-type {\n",
       "        vertical-align: middle;\n",
       "    }\n",
       "\n",
       "    .dataframe tbody tr th {\n",
       "        vertical-align: top;\n",
       "    }\n",
       "\n",
       "    .dataframe thead th {\n",
       "        text-align: right;\n",
       "    }\n",
       "</style>\n",
       "<table border=\"1\" class=\"dataframe\">\n",
       "  <thead>\n",
       "    <tr style=\"text-align: right;\">\n",
       "      <th></th>\n",
       "      <th>FIPS</th>\n",
       "      <th>Admin2</th>\n",
       "      <th>Province_State</th>\n",
       "      <th>Country_Region</th>\n",
       "      <th>Last_Update</th>\n",
       "      <th>Lat</th>\n",
       "      <th>Long_</th>\n",
       "      <th>Confirmed</th>\n",
       "      <th>Deaths</th>\n",
       "      <th>Recovered</th>\n",
       "      <th>Active</th>\n",
       "      <th>Combined_Key</th>\n",
       "      <th>Incident_Rate</th>\n",
       "      <th>Case_Fatality_Ratio</th>\n",
       "    </tr>\n",
       "  </thead>\n",
       "  <tbody>\n",
       "    <tr>\n",
       "      <th>643</th>\n",
       "      <td>NaN</td>\n",
       "      <td>NaN</td>\n",
       "      <td>NaN</td>\n",
       "      <td>Taiwan*</td>\n",
       "      <td>2021-05-10 04:20:38</td>\n",
       "      <td>23.7</td>\n",
       "      <td>121.0</td>\n",
       "      <td>1184</td>\n",
       "      <td>12</td>\n",
       "      <td>1089.0</td>\n",
       "      <td>83.0</td>\n",
       "      <td>Taiwan*</td>\n",
       "      <td>4.971286</td>\n",
       "      <td>1.013514</td>\n",
       "    </tr>\n",
       "  </tbody>\n",
       "</table>\n",
       "</div>"
      ],
      "text/plain": [
       "     FIPS Admin2 Province_State Country_Region          Last_Update   Lat  \\\n",
       "643   NaN    NaN            NaN        Taiwan*  2021-05-10 04:20:38  23.7   \n",
       "\n",
       "     Long_  Confirmed  Deaths  Recovered  Active Combined_Key  Incident_Rate  \\\n",
       "643  121.0       1184      12     1089.0    83.0      Taiwan*       4.971286   \n",
       "\n",
       "     Case_Fatality_Ratio  \n",
       "643             1.013514  "
      ]
     },
     "execution_count": 16,
     "metadata": {},
     "output_type": "execute_result"
    }
   ],
   "source": [
    "daily_report[is_tw] # is_tw 是一個布林值 Series"
   ]
  },
  {
   "cell_type": "markdown",
   "metadata": {
    "slideshow": {
     "slide_type": "subslide"
    }
   },
   "source": [
    "## 摘要（summarize）\n",
    "\n",
    "對 `Series` 呼叫聚合方法，例如加總 `.sum()`。"
   ]
  },
  {
   "cell_type": "code",
   "execution_count": 17,
   "metadata": {},
   "outputs": [
    {
     "data": {
      "text/plain": [
       "158326318"
      ]
     },
     "execution_count": 17,
     "metadata": {},
     "output_type": "execute_result"
    }
   ],
   "source": [
    "daily_report['Confirmed'].sum()"
   ]
  },
  {
   "cell_type": "markdown",
   "metadata": {
    "slideshow": {
     "slide_type": "subslide"
    }
   },
   "source": [
    "## 分組（group by）與摘要（summarise）\n",
    "\n",
    "以國家為分組層級，所以在 `groupby()` 方法中傳入 Country_Region 欄位，獲得一個 `DataFrameGroupBy` 類別。"
   ]
  },
  {
   "cell_type": "code",
   "execution_count": 18,
   "metadata": {},
   "outputs": [
    {
     "data": {
      "text/plain": [
       "<pandas.core.groupby.generic.DataFrameGroupBy object at 0x7ff1176a9438>"
      ]
     },
     "execution_count": 18,
     "metadata": {},
     "output_type": "execute_result"
    }
   ],
   "source": [
    "daily_report.groupby(\"Country_Region\")"
   ]
  },
  {
   "cell_type": "markdown",
   "metadata": {
    "slideshow": {
     "slide_type": "subslide"
    }
   },
   "source": [
    "## 分組（group by）與摘要（summarise） \n",
    "\n",
    "指定 `DataFrameGroupBy` 類別的欄位與聚合函數，獲得分組摘要的結果，是一個 `Series`。"
   ]
  },
  {
   "cell_type": "code",
   "execution_count": 19,
   "metadata": {
    "slideshow": {
     "slide_type": "subslide"
    }
   },
   "outputs": [
    {
     "data": {
      "text/plain": [
       "Country_Region\n",
       "Afghanistan            61842\n",
       "Albania               131723\n",
       "Algeria               124104\n",
       "Andorra                13423\n",
       "Angola                 28740\n",
       "                       ...  \n",
       "Vietnam                 3412\n",
       "West Bank and Gaza    301751\n",
       "Yemen                   6482\n",
       "Zambia                 92092\n",
       "Zimbabwe               38419\n",
       "Name: Confirmed, Length: 192, dtype: int64"
      ]
     },
     "execution_count": 19,
     "metadata": {},
     "output_type": "execute_result"
    }
   ],
   "source": [
    "daily_report.groupby(\"Country_Region\")['Confirmed'].sum()"
   ]
  },
  {
   "cell_type": "markdown",
   "metadata": {
    "slideshow": {
     "slide_type": "subslide"
    }
   },
   "source": [
    "## 排序（arrange）\n",
    "\n",
    "呼叫 `Series` 的 `sort_values(ascending=False)` 方法將摘要結果由大到小遞減排序。"
   ]
  },
  {
   "cell_type": "code",
   "execution_count": 20,
   "metadata": {
    "slideshow": {
     "slide_type": "subslide"
    }
   },
   "outputs": [
    {
     "data": {
      "text/plain": [
       "Country_Region\n",
       "US                32707750\n",
       "India             22662575\n",
       "Brazil            15184790\n",
       "France             5838294\n",
       "Turkey             5031332\n",
       "Russia             4824621\n",
       "United Kingdom     4450578\n",
       "Italy              4111210\n",
       "Spain              3567408\n",
       "Germany            3530887\n",
       "Name: Confirmed, dtype: int64"
      ]
     },
     "execution_count": 20,
     "metadata": {},
     "output_type": "execute_result"
    }
   ],
   "source": [
    "confirmed_by_country = daily_report.groupby(\"Country_Region\")['Confirmed'].sum()\n",
    "confirmed_by_country.sort_values(ascending=False)[:10] # 顯示確診人數前 10 高的國家"
   ]
  },
  {
   "cell_type": "markdown",
   "metadata": {
    "slideshow": {
     "slide_type": "subslide"
    }
   },
   "source": [
    "## 除了基礎操作，Pandas 還能夠進行\n",
    "\n",
    "- 網頁表格內容載入\n",
    "- 關聯式資料庫操作\n",
    "- 視覺化\n",
    "- ...etc."
   ]
  },
  {
   "cell_type": "markdown",
   "metadata": {
    "slideshow": {
     "slide_type": "slide"
    }
   },
   "source": [
    "## 使用 Pandas 處理校外公開資訊"
   ]
  },
  {
   "cell_type": "markdown",
   "metadata": {
    "slideshow": {
     "slide_type": "subslide"
    }
   },
   "source": [
    "## 校外公開資訊檔案格式\n",
    "\n",
    "- `.xlsx`\n",
    "- `.csv`\n",
    "- `.pdf`"
   ]
  },
  {
   "cell_type": "markdown",
   "metadata": {
    "slideshow": {
     "slide_type": "subslide"
    }
   },
   "source": [
    "## 使用 `read_excel` 函數載入 `.xlsx`"
   ]
  },
  {
   "cell_type": "code",
   "execution_count": 21,
   "metadata": {},
   "outputs": [
    {
     "data": {
      "text/plain": [
       "pandas.core.frame.DataFrame"
      ]
     },
     "execution_count": 21,
     "metadata": {},
     "output_type": "execute_result"
    }
   ],
   "source": [
    "xlsx_df = pd.read_excel('學1-1.正式學籍在學學生人數-以「系(所)」統計.xlsx')\n",
    "type(xlsx_df)"
   ]
  },
  {
   "cell_type": "markdown",
   "metadata": {
    "slideshow": {
     "slide_type": "subslide"
    }
   },
   "source": [
    "## 使用 `read_csv` 函數載入 `.csv`"
   ]
  },
  {
   "cell_type": "code",
   "execution_count": 22,
   "metadata": {},
   "outputs": [
    {
     "data": {
      "text/plain": [
       "pandas.core.frame.DataFrame"
      ]
     },
     "execution_count": 22,
     "metadata": {},
     "output_type": "execute_result"
    }
   ],
   "source": [
    "csv_df = pd.read_csv('學1-1.正式學籍在學學生人數-以「系(所)」統計.csv')\n",
    "type(csv_df)"
   ]
  },
  {
   "cell_type": "markdown",
   "metadata": {
    "slideshow": {
     "slide_type": "subslide"
    }
   },
   "source": [
    "## 使用 `tabula.read_pdf` 函數載入 `.pdf`\n",
    "\n",
    "- 使用前要確定分析環境有安裝 `tabula-py`。\n",
    "- 在 Anaconda 安裝：Anaconda Prompt > `pip install tabula-py`。\n",
    "- 在 Google Colab 安裝：`!pip install tabula-py`。"
   ]
  },
  {
   "cell_type": "code",
   "execution_count": 23,
   "metadata": {
    "slideshow": {
     "slide_type": "subslide"
    }
   },
   "outputs": [
    {
     "name": "stderr",
     "output_type": "stream",
     "text": [
      "Got stderr: May 10, 2021 11:34:07 PM org.apache.pdfbox.rendering.PDFRenderer suggestKCMS\n",
      "INFO: Your current java version is: 1.8.0_152\n",
      "May 10, 2021 11:34:07 PM org.apache.pdfbox.rendering.PDFRenderer suggestKCMS\n",
      "INFO: To get higher rendering speed on old java 1.8 or 9 versions,\n",
      "May 10, 2021 11:34:07 PM org.apache.pdfbox.rendering.PDFRenderer suggestKCMS\n",
      "INFO:   update to the latest 1.8 or 9 version (>= 1.8.0_191 or >= 9.0.4),\n",
      "May 10, 2021 11:34:07 PM org.apache.pdfbox.rendering.PDFRenderer suggestKCMS\n",
      "INFO:   or\n",
      "May 10, 2021 11:34:07 PM org.apache.pdfbox.rendering.PDFRenderer suggestKCMS\n",
      "INFO:   use the option -Dsun.java2d.cmm=sun.java2d.cmm.kcms.KcmsServiceProvider\n",
      "May 10, 2021 11:34:07 PM org.apache.pdfbox.rendering.PDFRenderer suggestKCMS\n",
      "INFO:   or call System.setProperty(\"sun.java2d.cmm\", \"sun.java2d.cmm.kcms.KcmsServiceProvider\")\n",
      "\n"
     ]
    }
   ],
   "source": [
    "import tabula\n",
    "\n",
    "pdf_df_list = tabula.read_pdf('1092-1.pdf', pages='1')\n",
    "pdf_df = pdf_df_list[0]"
   ]
  },
  {
   "cell_type": "code",
   "execution_count": 24,
   "metadata": {
    "slideshow": {
     "slide_type": "subslide"
    }
   },
   "outputs": [
    {
     "data": {
      "text/plain": [
       "pandas.core.frame.DataFrame"
      ]
     },
     "execution_count": 24,
     "metadata": {},
     "output_type": "execute_result"
    }
   ],
   "source": [
    "type(pdf_df)"
   ]
  },
  {
   "cell_type": "markdown",
   "metadata": {
    "slideshow": {
     "slide_type": "subslide"
    }
   },
   "source": [
    "## 使用 Pandas 清理與轉換載入資料，以 `.xlsx` 為例"
   ]
  },
  {
   "cell_type": "code",
   "execution_count": 25,
   "metadata": {},
   "outputs": [
    {
     "data": {
      "text/html": [
       "<div>\n",
       "<style scoped>\n",
       "    .dataframe tbody tr th:only-of-type {\n",
       "        vertical-align: middle;\n",
       "    }\n",
       "\n",
       "    .dataframe tbody tr th {\n",
       "        vertical-align: top;\n",
       "    }\n",
       "\n",
       "    .dataframe thead th {\n",
       "        text-align: right;\n",
       "    }\n",
       "</style>\n",
       "<table border=\"1\" class=\"dataframe\">\n",
       "  <thead>\n",
       "    <tr style=\"text-align: right;\">\n",
       "      <th></th>\n",
       "      <th>學年度</th>\n",
       "      <th>設立別</th>\n",
       "      <th>學校類別</th>\n",
       "      <th>學校統計處代碼</th>\n",
       "      <th>學校名稱</th>\n",
       "      <th>系所代碼</th>\n",
       "      <th>系所名稱</th>\n",
       "      <th>學制班別</th>\n",
       "      <th>在學學生數小計</th>\n",
       "      <th>在學學生數男</th>\n",
       "      <th>在學學生數女</th>\n",
       "    </tr>\n",
       "  </thead>\n",
       "  <tbody>\n",
       "    <tr>\n",
       "      <th>0</th>\n",
       "      <td>109</td>\n",
       "      <td>私立</td>\n",
       "      <td>一般大學</td>\n",
       "      <td>1003</td>\n",
       "      <td>東吳大學</td>\n",
       "      <td>2151001</td>\n",
       "      <td>音樂學系</td>\n",
       "      <td>學士班(日間)</td>\n",
       "      <td>256</td>\n",
       "      <td>69</td>\n",
       "      <td>187</td>\n",
       "    </tr>\n",
       "    <tr>\n",
       "      <th>1</th>\n",
       "      <td>109</td>\n",
       "      <td>私立</td>\n",
       "      <td>一般大學</td>\n",
       "      <td>1003</td>\n",
       "      <td>東吳大學</td>\n",
       "      <td>2151001</td>\n",
       "      <td>音樂學系</td>\n",
       "      <td>碩士班(日間)</td>\n",
       "      <td>51</td>\n",
       "      <td>12</td>\n",
       "      <td>39</td>\n",
       "    </tr>\n",
       "    <tr>\n",
       "      <th>2</th>\n",
       "      <td>109</td>\n",
       "      <td>私立</td>\n",
       "      <td>一般大學</td>\n",
       "      <td>1003</td>\n",
       "      <td>東吳大學</td>\n",
       "      <td>2151001</td>\n",
       "      <td>音樂學系</td>\n",
       "      <td>碩士在職專班</td>\n",
       "      <td>8</td>\n",
       "      <td>3</td>\n",
       "      <td>5</td>\n",
       "    </tr>\n",
       "    <tr>\n",
       "      <th>3</th>\n",
       "      <td>109</td>\n",
       "      <td>私立</td>\n",
       "      <td>一般大學</td>\n",
       "      <td>1003</td>\n",
       "      <td>東吳大學</td>\n",
       "      <td>2221006</td>\n",
       "      <td>歷史學系</td>\n",
       "      <td>學士班(日間)</td>\n",
       "      <td>249</td>\n",
       "      <td>135</td>\n",
       "      <td>114</td>\n",
       "    </tr>\n",
       "    <tr>\n",
       "      <th>4</th>\n",
       "      <td>109</td>\n",
       "      <td>私立</td>\n",
       "      <td>一般大學</td>\n",
       "      <td>1003</td>\n",
       "      <td>東吳大學</td>\n",
       "      <td>2221006</td>\n",
       "      <td>歷史學系</td>\n",
       "      <td>碩士班(日間)</td>\n",
       "      <td>13</td>\n",
       "      <td>7</td>\n",
       "      <td>6</td>\n",
       "    </tr>\n",
       "    <tr>\n",
       "      <th>...</th>\n",
       "      <td>...</td>\n",
       "      <td>...</td>\n",
       "      <td>...</td>\n",
       "      <td>...</td>\n",
       "      <td>...</td>\n",
       "      <td>...</td>\n",
       "      <td>...</td>\n",
       "      <td>...</td>\n",
       "      <td>...</td>\n",
       "      <td>...</td>\n",
       "      <td>...</td>\n",
       "    </tr>\n",
       "    <tr>\n",
       "      <th>67</th>\n",
       "      <td>109</td>\n",
       "      <td>私立</td>\n",
       "      <td>一般大學</td>\n",
       "      <td>1003</td>\n",
       "      <td>東吳大學</td>\n",
       "      <td>6131028</td>\n",
       "      <td>資訊管理學系</td>\n",
       "      <td>學士班(日間)</td>\n",
       "      <td>499</td>\n",
       "      <td>280</td>\n",
       "      <td>219</td>\n",
       "    </tr>\n",
       "    <tr>\n",
       "      <th>68</th>\n",
       "      <td>109</td>\n",
       "      <td>私立</td>\n",
       "      <td>一般大學</td>\n",
       "      <td>1003</td>\n",
       "      <td>東吳大學</td>\n",
       "      <td>6131028</td>\n",
       "      <td>資訊管理學系</td>\n",
       "      <td>碩士班(日間)</td>\n",
       "      <td>30</td>\n",
       "      <td>15</td>\n",
       "      <td>15</td>\n",
       "    </tr>\n",
       "    <tr>\n",
       "      <th>69</th>\n",
       "      <td>109</td>\n",
       "      <td>私立</td>\n",
       "      <td>一般大學</td>\n",
       "      <td>1003</td>\n",
       "      <td>東吳大學</td>\n",
       "      <td>6131028</td>\n",
       "      <td>資訊管理學系</td>\n",
       "      <td>碩士在職專班</td>\n",
       "      <td>44</td>\n",
       "      <td>33</td>\n",
       "      <td>11</td>\n",
       "    </tr>\n",
       "    <tr>\n",
       "      <th>70</th>\n",
       "      <td>109</td>\n",
       "      <td>私立</td>\n",
       "      <td>一般大學</td>\n",
       "      <td>1003</td>\n",
       "      <td>東吳大學</td>\n",
       "      <td>9231030</td>\n",
       "      <td>社會工作學系</td>\n",
       "      <td>學士班(日間)</td>\n",
       "      <td>549</td>\n",
       "      <td>163</td>\n",
       "      <td>386</td>\n",
       "    </tr>\n",
       "    <tr>\n",
       "      <th>71</th>\n",
       "      <td>109</td>\n",
       "      <td>私立</td>\n",
       "      <td>一般大學</td>\n",
       "      <td>1003</td>\n",
       "      <td>東吳大學</td>\n",
       "      <td>9231030</td>\n",
       "      <td>社會工作學系</td>\n",
       "      <td>碩士班(日間)</td>\n",
       "      <td>69</td>\n",
       "      <td>16</td>\n",
       "      <td>53</td>\n",
       "    </tr>\n",
       "  </tbody>\n",
       "</table>\n",
       "<p>72 rows × 11 columns</p>\n",
       "</div>"
      ],
      "text/plain": [
       "    學年度 設立別  學校類別  學校統計處代碼  學校名稱     系所代碼    系所名稱     學制班別  在學學生數小計  在學學生數男  \\\n",
       "0   109  私立  一般大學     1003  東吳大學  2151001    音樂學系  學士班(日間)      256      69   \n",
       "1   109  私立  一般大學     1003  東吳大學  2151001    音樂學系  碩士班(日間)       51      12   \n",
       "2   109  私立  一般大學     1003  東吳大學  2151001    音樂學系   碩士在職專班        8       3   \n",
       "3   109  私立  一般大學     1003  東吳大學  2221006    歷史學系  學士班(日間)      249     135   \n",
       "4   109  私立  一般大學     1003  東吳大學  2221006    歷史學系  碩士班(日間)       13       7   \n",
       "..  ...  ..   ...      ...   ...      ...     ...      ...      ...     ...   \n",
       "67  109  私立  一般大學     1003  東吳大學  6131028  資訊管理學系  學士班(日間)      499     280   \n",
       "68  109  私立  一般大學     1003  東吳大學  6131028  資訊管理學系  碩士班(日間)       30      15   \n",
       "69  109  私立  一般大學     1003  東吳大學  6131028  資訊管理學系   碩士在職專班       44      33   \n",
       "70  109  私立  一般大學     1003  東吳大學  9231030  社會工作學系  學士班(日間)      549     163   \n",
       "71  109  私立  一般大學     1003  東吳大學  9231030  社會工作學系  碩士班(日間)       69      16   \n",
       "\n",
       "    在學學生數女  \n",
       "0      187  \n",
       "1       39  \n",
       "2        5  \n",
       "3      114  \n",
       "4        6  \n",
       "..     ...  \n",
       "67     219  \n",
       "68      15  \n",
       "69      11  \n",
       "70     386  \n",
       "71      53  \n",
       "\n",
       "[72 rows x 11 columns]"
      ]
     },
     "execution_count": 25,
     "metadata": {},
     "output_type": "execute_result"
    }
   ],
   "source": [
    "xlsx_df = pd.read_excel('學1-1.正式學籍在學學生人數-以「系(所)」統計.xlsx',  skiprows=2, skipfooter=16)\n",
    "xlsx_df"
   ]
  },
  {
   "cell_type": "markdown",
   "metadata": {
    "slideshow": {
     "slide_type": "subslide"
    }
   },
   "source": [
    "## 調整資料外型"
   ]
  },
  {
   "cell_type": "code",
   "execution_count": 26,
   "metadata": {},
   "outputs": [
    {
     "data": {
      "text/html": [
       "<div>\n",
       "<style scoped>\n",
       "    .dataframe tbody tr th:only-of-type {\n",
       "        vertical-align: middle;\n",
       "    }\n",
       "\n",
       "    .dataframe tbody tr th {\n",
       "        vertical-align: top;\n",
       "    }\n",
       "\n",
       "    .dataframe thead th {\n",
       "        text-align: right;\n",
       "    }\n",
       "</style>\n",
       "<table border=\"1\" class=\"dataframe\">\n",
       "  <thead>\n",
       "    <tr style=\"text-align: right;\">\n",
       "      <th></th>\n",
       "      <th>學年度</th>\n",
       "      <th>設立別</th>\n",
       "      <th>學校類別</th>\n",
       "      <th>學校統計處代碼</th>\n",
       "      <th>學校名稱</th>\n",
       "      <th>系所代碼</th>\n",
       "      <th>系所名稱</th>\n",
       "      <th>學制班別</th>\n",
       "      <th>性別</th>\n",
       "      <th>在學學生數</th>\n",
       "    </tr>\n",
       "  </thead>\n",
       "  <tbody>\n",
       "    <tr>\n",
       "      <th>0</th>\n",
       "      <td>109</td>\n",
       "      <td>私立</td>\n",
       "      <td>一般大學</td>\n",
       "      <td>1003</td>\n",
       "      <td>東吳大學</td>\n",
       "      <td>2151001</td>\n",
       "      <td>音樂學系</td>\n",
       "      <td>學士班(日間)</td>\n",
       "      <td>在學學生數男</td>\n",
       "      <td>69</td>\n",
       "    </tr>\n",
       "    <tr>\n",
       "      <th>1</th>\n",
       "      <td>109</td>\n",
       "      <td>私立</td>\n",
       "      <td>一般大學</td>\n",
       "      <td>1003</td>\n",
       "      <td>東吳大學</td>\n",
       "      <td>2151001</td>\n",
       "      <td>音樂學系</td>\n",
       "      <td>碩士班(日間)</td>\n",
       "      <td>在學學生數男</td>\n",
       "      <td>12</td>\n",
       "    </tr>\n",
       "    <tr>\n",
       "      <th>2</th>\n",
       "      <td>109</td>\n",
       "      <td>私立</td>\n",
       "      <td>一般大學</td>\n",
       "      <td>1003</td>\n",
       "      <td>東吳大學</td>\n",
       "      <td>2151001</td>\n",
       "      <td>音樂學系</td>\n",
       "      <td>碩士在職專班</td>\n",
       "      <td>在學學生數男</td>\n",
       "      <td>3</td>\n",
       "    </tr>\n",
       "    <tr>\n",
       "      <th>3</th>\n",
       "      <td>109</td>\n",
       "      <td>私立</td>\n",
       "      <td>一般大學</td>\n",
       "      <td>1003</td>\n",
       "      <td>東吳大學</td>\n",
       "      <td>2221006</td>\n",
       "      <td>歷史學系</td>\n",
       "      <td>學士班(日間)</td>\n",
       "      <td>在學學生數男</td>\n",
       "      <td>135</td>\n",
       "    </tr>\n",
       "    <tr>\n",
       "      <th>4</th>\n",
       "      <td>109</td>\n",
       "      <td>私立</td>\n",
       "      <td>一般大學</td>\n",
       "      <td>1003</td>\n",
       "      <td>東吳大學</td>\n",
       "      <td>2221006</td>\n",
       "      <td>歷史學系</td>\n",
       "      <td>碩士班(日間)</td>\n",
       "      <td>在學學生數男</td>\n",
       "      <td>7</td>\n",
       "    </tr>\n",
       "    <tr>\n",
       "      <th>...</th>\n",
       "      <td>...</td>\n",
       "      <td>...</td>\n",
       "      <td>...</td>\n",
       "      <td>...</td>\n",
       "      <td>...</td>\n",
       "      <td>...</td>\n",
       "      <td>...</td>\n",
       "      <td>...</td>\n",
       "      <td>...</td>\n",
       "      <td>...</td>\n",
       "    </tr>\n",
       "    <tr>\n",
       "      <th>139</th>\n",
       "      <td>109</td>\n",
       "      <td>私立</td>\n",
       "      <td>一般大學</td>\n",
       "      <td>1003</td>\n",
       "      <td>東吳大學</td>\n",
       "      <td>6131028</td>\n",
       "      <td>資訊管理學系</td>\n",
       "      <td>學士班(日間)</td>\n",
       "      <td>在學學生數女</td>\n",
       "      <td>219</td>\n",
       "    </tr>\n",
       "    <tr>\n",
       "      <th>140</th>\n",
       "      <td>109</td>\n",
       "      <td>私立</td>\n",
       "      <td>一般大學</td>\n",
       "      <td>1003</td>\n",
       "      <td>東吳大學</td>\n",
       "      <td>6131028</td>\n",
       "      <td>資訊管理學系</td>\n",
       "      <td>碩士班(日間)</td>\n",
       "      <td>在學學生數女</td>\n",
       "      <td>15</td>\n",
       "    </tr>\n",
       "    <tr>\n",
       "      <th>141</th>\n",
       "      <td>109</td>\n",
       "      <td>私立</td>\n",
       "      <td>一般大學</td>\n",
       "      <td>1003</td>\n",
       "      <td>東吳大學</td>\n",
       "      <td>6131028</td>\n",
       "      <td>資訊管理學系</td>\n",
       "      <td>碩士在職專班</td>\n",
       "      <td>在學學生數女</td>\n",
       "      <td>11</td>\n",
       "    </tr>\n",
       "    <tr>\n",
       "      <th>142</th>\n",
       "      <td>109</td>\n",
       "      <td>私立</td>\n",
       "      <td>一般大學</td>\n",
       "      <td>1003</td>\n",
       "      <td>東吳大學</td>\n",
       "      <td>9231030</td>\n",
       "      <td>社會工作學系</td>\n",
       "      <td>學士班(日間)</td>\n",
       "      <td>在學學生數女</td>\n",
       "      <td>386</td>\n",
       "    </tr>\n",
       "    <tr>\n",
       "      <th>143</th>\n",
       "      <td>109</td>\n",
       "      <td>私立</td>\n",
       "      <td>一般大學</td>\n",
       "      <td>1003</td>\n",
       "      <td>東吳大學</td>\n",
       "      <td>9231030</td>\n",
       "      <td>社會工作學系</td>\n",
       "      <td>碩士班(日間)</td>\n",
       "      <td>在學學生數女</td>\n",
       "      <td>53</td>\n",
       "    </tr>\n",
       "  </tbody>\n",
       "</table>\n",
       "<p>144 rows × 10 columns</p>\n",
       "</div>"
      ],
      "text/plain": [
       "     學年度 設立別  學校類別  學校統計處代碼  學校名稱     系所代碼    系所名稱     學制班別      性別  在學學生數\n",
       "0    109  私立  一般大學     1003  東吳大學  2151001    音樂學系  學士班(日間)  在學學生數男     69\n",
       "1    109  私立  一般大學     1003  東吳大學  2151001    音樂學系  碩士班(日間)  在學學生數男     12\n",
       "2    109  私立  一般大學     1003  東吳大學  2151001    音樂學系   碩士在職專班  在學學生數男      3\n",
       "3    109  私立  一般大學     1003  東吳大學  2221006    歷史學系  學士班(日間)  在學學生數男    135\n",
       "4    109  私立  一般大學     1003  東吳大學  2221006    歷史學系  碩士班(日間)  在學學生數男      7\n",
       "..   ...  ..   ...      ...   ...      ...     ...      ...     ...    ...\n",
       "139  109  私立  一般大學     1003  東吳大學  6131028  資訊管理學系  學士班(日間)  在學學生數女    219\n",
       "140  109  私立  一般大學     1003  東吳大學  6131028  資訊管理學系  碩士班(日間)  在學學生數女     15\n",
       "141  109  私立  一般大學     1003  東吳大學  6131028  資訊管理學系   碩士在職專班  在學學生數女     11\n",
       "142  109  私立  一般大學     1003  東吳大學  9231030  社會工作學系  學士班(日間)  在學學生數女    386\n",
       "143  109  私立  一般大學     1003  東吳大學  9231030  社會工作學系  碩士班(日間)  在學學生數女     53\n",
       "\n",
       "[144 rows x 10 columns]"
      ]
     },
     "execution_count": 26,
     "metadata": {},
     "output_type": "execute_result"
    }
   ],
   "source": [
    "xlsx_df = xlsx_df.drop('在學學生數小計', axis=1)\n",
    "id_variables = xlsx_df.columns[:8]\n",
    "xlsx_df_long = pd.melt(xlsx_df, id_vars=id_variables, var_name='性別', value_name='在學學生數')\n",
    "xlsx_df_long"
   ]
  },
  {
   "cell_type": "markdown",
   "metadata": {
    "slideshow": {
     "slide_type": "subslide"
    }
   },
   "source": [
    "## 對應性別"
   ]
  },
  {
   "cell_type": "code",
   "execution_count": 27,
   "metadata": {},
   "outputs": [
    {
     "data": {
      "text/html": [
       "<div>\n",
       "<style scoped>\n",
       "    .dataframe tbody tr th:only-of-type {\n",
       "        vertical-align: middle;\n",
       "    }\n",
       "\n",
       "    .dataframe tbody tr th {\n",
       "        vertical-align: top;\n",
       "    }\n",
       "\n",
       "    .dataframe thead th {\n",
       "        text-align: right;\n",
       "    }\n",
       "</style>\n",
       "<table border=\"1\" class=\"dataframe\">\n",
       "  <thead>\n",
       "    <tr style=\"text-align: right;\">\n",
       "      <th></th>\n",
       "      <th>學年度</th>\n",
       "      <th>設立別</th>\n",
       "      <th>學校類別</th>\n",
       "      <th>學校統計處代碼</th>\n",
       "      <th>學校名稱</th>\n",
       "      <th>系所代碼</th>\n",
       "      <th>系所名稱</th>\n",
       "      <th>學制班別</th>\n",
       "      <th>性別</th>\n",
       "      <th>在學學生數</th>\n",
       "    </tr>\n",
       "  </thead>\n",
       "  <tbody>\n",
       "    <tr>\n",
       "      <th>0</th>\n",
       "      <td>109</td>\n",
       "      <td>私立</td>\n",
       "      <td>一般大學</td>\n",
       "      <td>1003</td>\n",
       "      <td>東吳大學</td>\n",
       "      <td>2151001</td>\n",
       "      <td>音樂學系</td>\n",
       "      <td>學士班(日間)</td>\n",
       "      <td>男</td>\n",
       "      <td>69</td>\n",
       "    </tr>\n",
       "    <tr>\n",
       "      <th>1</th>\n",
       "      <td>109</td>\n",
       "      <td>私立</td>\n",
       "      <td>一般大學</td>\n",
       "      <td>1003</td>\n",
       "      <td>東吳大學</td>\n",
       "      <td>2151001</td>\n",
       "      <td>音樂學系</td>\n",
       "      <td>碩士班(日間)</td>\n",
       "      <td>男</td>\n",
       "      <td>12</td>\n",
       "    </tr>\n",
       "    <tr>\n",
       "      <th>2</th>\n",
       "      <td>109</td>\n",
       "      <td>私立</td>\n",
       "      <td>一般大學</td>\n",
       "      <td>1003</td>\n",
       "      <td>東吳大學</td>\n",
       "      <td>2151001</td>\n",
       "      <td>音樂學系</td>\n",
       "      <td>碩士在職專班</td>\n",
       "      <td>男</td>\n",
       "      <td>3</td>\n",
       "    </tr>\n",
       "    <tr>\n",
       "      <th>3</th>\n",
       "      <td>109</td>\n",
       "      <td>私立</td>\n",
       "      <td>一般大學</td>\n",
       "      <td>1003</td>\n",
       "      <td>東吳大學</td>\n",
       "      <td>2221006</td>\n",
       "      <td>歷史學系</td>\n",
       "      <td>學士班(日間)</td>\n",
       "      <td>男</td>\n",
       "      <td>135</td>\n",
       "    </tr>\n",
       "    <tr>\n",
       "      <th>4</th>\n",
       "      <td>109</td>\n",
       "      <td>私立</td>\n",
       "      <td>一般大學</td>\n",
       "      <td>1003</td>\n",
       "      <td>東吳大學</td>\n",
       "      <td>2221006</td>\n",
       "      <td>歷史學系</td>\n",
       "      <td>碩士班(日間)</td>\n",
       "      <td>男</td>\n",
       "      <td>7</td>\n",
       "    </tr>\n",
       "    <tr>\n",
       "      <th>...</th>\n",
       "      <td>...</td>\n",
       "      <td>...</td>\n",
       "      <td>...</td>\n",
       "      <td>...</td>\n",
       "      <td>...</td>\n",
       "      <td>...</td>\n",
       "      <td>...</td>\n",
       "      <td>...</td>\n",
       "      <td>...</td>\n",
       "      <td>...</td>\n",
       "    </tr>\n",
       "    <tr>\n",
       "      <th>139</th>\n",
       "      <td>109</td>\n",
       "      <td>私立</td>\n",
       "      <td>一般大學</td>\n",
       "      <td>1003</td>\n",
       "      <td>東吳大學</td>\n",
       "      <td>6131028</td>\n",
       "      <td>資訊管理學系</td>\n",
       "      <td>學士班(日間)</td>\n",
       "      <td>女</td>\n",
       "      <td>219</td>\n",
       "    </tr>\n",
       "    <tr>\n",
       "      <th>140</th>\n",
       "      <td>109</td>\n",
       "      <td>私立</td>\n",
       "      <td>一般大學</td>\n",
       "      <td>1003</td>\n",
       "      <td>東吳大學</td>\n",
       "      <td>6131028</td>\n",
       "      <td>資訊管理學系</td>\n",
       "      <td>碩士班(日間)</td>\n",
       "      <td>女</td>\n",
       "      <td>15</td>\n",
       "    </tr>\n",
       "    <tr>\n",
       "      <th>141</th>\n",
       "      <td>109</td>\n",
       "      <td>私立</td>\n",
       "      <td>一般大學</td>\n",
       "      <td>1003</td>\n",
       "      <td>東吳大學</td>\n",
       "      <td>6131028</td>\n",
       "      <td>資訊管理學系</td>\n",
       "      <td>碩士在職專班</td>\n",
       "      <td>女</td>\n",
       "      <td>11</td>\n",
       "    </tr>\n",
       "    <tr>\n",
       "      <th>142</th>\n",
       "      <td>109</td>\n",
       "      <td>私立</td>\n",
       "      <td>一般大學</td>\n",
       "      <td>1003</td>\n",
       "      <td>東吳大學</td>\n",
       "      <td>9231030</td>\n",
       "      <td>社會工作學系</td>\n",
       "      <td>學士班(日間)</td>\n",
       "      <td>女</td>\n",
       "      <td>386</td>\n",
       "    </tr>\n",
       "    <tr>\n",
       "      <th>143</th>\n",
       "      <td>109</td>\n",
       "      <td>私立</td>\n",
       "      <td>一般大學</td>\n",
       "      <td>1003</td>\n",
       "      <td>東吳大學</td>\n",
       "      <td>9231030</td>\n",
       "      <td>社會工作學系</td>\n",
       "      <td>碩士班(日間)</td>\n",
       "      <td>女</td>\n",
       "      <td>53</td>\n",
       "    </tr>\n",
       "  </tbody>\n",
       "</table>\n",
       "<p>144 rows × 10 columns</p>\n",
       "</div>"
      ],
      "text/plain": [
       "     學年度 設立別  學校類別  學校統計處代碼  學校名稱     系所代碼    系所名稱     學制班別 性別  在學學生數\n",
       "0    109  私立  一般大學     1003  東吳大學  2151001    音樂學系  學士班(日間)  男     69\n",
       "1    109  私立  一般大學     1003  東吳大學  2151001    音樂學系  碩士班(日間)  男     12\n",
       "2    109  私立  一般大學     1003  東吳大學  2151001    音樂學系   碩士在職專班  男      3\n",
       "3    109  私立  一般大學     1003  東吳大學  2221006    歷史學系  學士班(日間)  男    135\n",
       "4    109  私立  一般大學     1003  東吳大學  2221006    歷史學系  碩士班(日間)  男      7\n",
       "..   ...  ..   ...      ...   ...      ...     ...      ... ..    ...\n",
       "139  109  私立  一般大學     1003  東吳大學  6131028  資訊管理學系  學士班(日間)  女    219\n",
       "140  109  私立  一般大學     1003  東吳大學  6131028  資訊管理學系  碩士班(日間)  女     15\n",
       "141  109  私立  一般大學     1003  東吳大學  6131028  資訊管理學系   碩士在職專班  女     11\n",
       "142  109  私立  一般大學     1003  東吳大學  9231030  社會工作學系  學士班(日間)  女    386\n",
       "143  109  私立  一般大學     1003  東吳大學  9231030  社會工作學系  碩士班(日間)  女     53\n",
       "\n",
       "[144 rows x 10 columns]"
      ]
     },
     "execution_count": 27,
     "metadata": {},
     "output_type": "execute_result"
    }
   ],
   "source": [
    "gender_dict = {\n",
    "    '在學學生數男': '男',\n",
    "    '在學學生數女': '女'\n",
    "}\n",
    "gender = xlsx_df_long['性別'].map(gender_dict)\n",
    "xlsx_df_long = xlsx_df_long.drop('性別', axis=1)\n",
    "xlsx_df_long.insert(8, '性別', gender)\n",
    "xlsx_df_long"
   ]
  },
  {
   "cell_type": "markdown",
   "metadata": {
    "slideshow": {
     "slide_type": "subslide"
    }
   },
   "source": [
    "## 篩選資料"
   ]
  },
  {
   "cell_type": "code",
   "execution_count": 28,
   "metadata": {},
   "outputs": [
    {
     "data": {
      "text/html": [
       "<div>\n",
       "<style scoped>\n",
       "    .dataframe tbody tr th:only-of-type {\n",
       "        vertical-align: middle;\n",
       "    }\n",
       "\n",
       "    .dataframe tbody tr th {\n",
       "        vertical-align: top;\n",
       "    }\n",
       "\n",
       "    .dataframe thead th {\n",
       "        text-align: right;\n",
       "    }\n",
       "</style>\n",
       "<table border=\"1\" class=\"dataframe\">\n",
       "  <thead>\n",
       "    <tr style=\"text-align: right;\">\n",
       "      <th></th>\n",
       "      <th>學年度</th>\n",
       "      <th>設立別</th>\n",
       "      <th>學校類別</th>\n",
       "      <th>學校統計處代碼</th>\n",
       "      <th>學校名稱</th>\n",
       "      <th>系所代碼</th>\n",
       "      <th>系所名稱</th>\n",
       "      <th>學制班別</th>\n",
       "      <th>性別</th>\n",
       "      <th>在學學生數</th>\n",
       "    </tr>\n",
       "  </thead>\n",
       "  <tbody>\n",
       "    <tr>\n",
       "      <th>49</th>\n",
       "      <td>109</td>\n",
       "      <td>私立</td>\n",
       "      <td>一般大學</td>\n",
       "      <td>1003</td>\n",
       "      <td>東吳大學</td>\n",
       "      <td>4199031</td>\n",
       "      <td>巨量資料管理學院碩士在職學位學程</td>\n",
       "      <td>碩士在職專班</td>\n",
       "      <td>男</td>\n",
       "      <td>86</td>\n",
       "    </tr>\n",
       "    <tr>\n",
       "      <th>50</th>\n",
       "      <td>109</td>\n",
       "      <td>私立</td>\n",
       "      <td>一般大學</td>\n",
       "      <td>1003</td>\n",
       "      <td>東吳大學</td>\n",
       "      <td>4199031</td>\n",
       "      <td>巨量資料管理學院碩士學位學程</td>\n",
       "      <td>碩士班(日間)</td>\n",
       "      <td>男</td>\n",
       "      <td>20</td>\n",
       "    </tr>\n",
       "    <tr>\n",
       "      <th>51</th>\n",
       "      <td>109</td>\n",
       "      <td>私立</td>\n",
       "      <td>一般大學</td>\n",
       "      <td>1003</td>\n",
       "      <td>東吳大學</td>\n",
       "      <td>4199031</td>\n",
       "      <td>巨量資料管理學院學士學位學程</td>\n",
       "      <td>學士班(日間)</td>\n",
       "      <td>男</td>\n",
       "      <td>210</td>\n",
       "    </tr>\n",
       "    <tr>\n",
       "      <th>52</th>\n",
       "      <td>109</td>\n",
       "      <td>私立</td>\n",
       "      <td>一般大學</td>\n",
       "      <td>1003</td>\n",
       "      <td>東吳大學</td>\n",
       "      <td>4199032</td>\n",
       "      <td>巨量資料分析學士後多元專長培力課程專班</td>\n",
       "      <td>學士班(日間)</td>\n",
       "      <td>男</td>\n",
       "      <td>2</td>\n",
       "    </tr>\n",
       "    <tr>\n",
       "      <th>121</th>\n",
       "      <td>109</td>\n",
       "      <td>私立</td>\n",
       "      <td>一般大學</td>\n",
       "      <td>1003</td>\n",
       "      <td>東吳大學</td>\n",
       "      <td>4199031</td>\n",
       "      <td>巨量資料管理學院碩士在職學位學程</td>\n",
       "      <td>碩士在職專班</td>\n",
       "      <td>女</td>\n",
       "      <td>62</td>\n",
       "    </tr>\n",
       "    <tr>\n",
       "      <th>122</th>\n",
       "      <td>109</td>\n",
       "      <td>私立</td>\n",
       "      <td>一般大學</td>\n",
       "      <td>1003</td>\n",
       "      <td>東吳大學</td>\n",
       "      <td>4199031</td>\n",
       "      <td>巨量資料管理學院碩士學位學程</td>\n",
       "      <td>碩士班(日間)</td>\n",
       "      <td>女</td>\n",
       "      <td>11</td>\n",
       "    </tr>\n",
       "    <tr>\n",
       "      <th>123</th>\n",
       "      <td>109</td>\n",
       "      <td>私立</td>\n",
       "      <td>一般大學</td>\n",
       "      <td>1003</td>\n",
       "      <td>東吳大學</td>\n",
       "      <td>4199031</td>\n",
       "      <td>巨量資料管理學院學士學位學程</td>\n",
       "      <td>學士班(日間)</td>\n",
       "      <td>女</td>\n",
       "      <td>150</td>\n",
       "    </tr>\n",
       "    <tr>\n",
       "      <th>124</th>\n",
       "      <td>109</td>\n",
       "      <td>私立</td>\n",
       "      <td>一般大學</td>\n",
       "      <td>1003</td>\n",
       "      <td>東吳大學</td>\n",
       "      <td>4199032</td>\n",
       "      <td>巨量資料分析學士後多元專長培力課程專班</td>\n",
       "      <td>學士班(日間)</td>\n",
       "      <td>女</td>\n",
       "      <td>0</td>\n",
       "    </tr>\n",
       "  </tbody>\n",
       "</table>\n",
       "</div>"
      ],
      "text/plain": [
       "     學年度 設立別  學校類別  學校統計處代碼  學校名稱     系所代碼                 系所名稱     學制班別 性別  \\\n",
       "49   109  私立  一般大學     1003  東吳大學  4199031     巨量資料管理學院碩士在職學位學程   碩士在職專班  男   \n",
       "50   109  私立  一般大學     1003  東吳大學  4199031       巨量資料管理學院碩士學位學程  碩士班(日間)  男   \n",
       "51   109  私立  一般大學     1003  東吳大學  4199031       巨量資料管理學院學士學位學程  學士班(日間)  男   \n",
       "52   109  私立  一般大學     1003  東吳大學  4199032  巨量資料分析學士後多元專長培力課程專班  學士班(日間)  男   \n",
       "121  109  私立  一般大學     1003  東吳大學  4199031     巨量資料管理學院碩士在職學位學程   碩士在職專班  女   \n",
       "122  109  私立  一般大學     1003  東吳大學  4199031       巨量資料管理學院碩士學位學程  碩士班(日間)  女   \n",
       "123  109  私立  一般大學     1003  東吳大學  4199031       巨量資料管理學院學士學位學程  學士班(日間)  女   \n",
       "124  109  私立  一般大學     1003  東吳大學  4199032  巨量資料分析學士後多元專長培力課程專班  學士班(日間)  女   \n",
       "\n",
       "     在學學生數  \n",
       "49      86  \n",
       "50      20  \n",
       "51     210  \n",
       "52       2  \n",
       "121     62  \n",
       "122     11  \n",
       "123    150  \n",
       "124      0  "
      ]
     },
     "execution_count": 28,
     "metadata": {},
     "output_type": "execute_result"
    }
   ],
   "source": [
    "xlsx_df_long[xlsx_df_long['系所名稱'].str.contains('巨量資料')]"
   ]
  },
  {
   "cell_type": "markdown",
   "metadata": {
    "slideshow": {
     "slide_type": "subslide"
    }
   },
   "source": [
    "## 暸解更多 Pandas 提供的功能\n",
    "\n",
    "[pandas: powerful Python data analysis toolkit](http://pandas.pydata.org/pandas-docs/stable/)"
   ]
  }
 ],
 "metadata": {
  "celltoolbar": "Slideshow",
  "kernelspec": {
   "display_name": "Python Data Analysis",
   "language": "python",
   "name": "pyda"
  },
  "language_info": {
   "codemirror_mode": {
    "name": "ipython",
    "version": 3
   },
   "file_extension": ".py",
   "mimetype": "text/x-python",
   "name": "python",
   "nbconvert_exporter": "python",
   "pygments_lexer": "ipython3",
   "version": "3.6.8"
  }
 },
 "nbformat": 4,
 "nbformat_minor": 4
}
