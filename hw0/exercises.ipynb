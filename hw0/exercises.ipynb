{
 "cells": [
  {
   "cell_type": "markdown",
   "metadata": {
    "deletable": false,
    "editable": false
   },
   "source": [
    "# Introduction to Python\n",
    "\n",
    "> Homework 0, SCU, 2021.\n",
    "\n",
    "Kuo, Yao-Jen <yaojenkuo@datainpoint.com> from [DATAINPOINT](https://www.datainpoint.com)"
   ]
  },
  {
   "cell_type": "markdown",
   "metadata": {
    "deletable": false,
    "editable": false
   },
   "source": [
    "## Instructions\n",
    "\n",
    "- We've imported necessary modules/libraries at the beginning of each exercise.\n",
    "- We've put necessary files(if any) in the working directory of each exercise.\n",
    "- We've defined the names of functions/inputs/arguments for you.\n",
    "- Write down your solution between the comments `### BEGIN SOLUTION` and `### END SOLUTION`.\n",
    "- Running tests to see if your solutions are right: Kernel -> Restart & Run All -> Restart and Run All Cells.\n",
    "- You can run tests after each question or after finishing all questions."
   ]
  },
  {
   "cell_type": "code",
   "execution_count": 1,
   "metadata": {
    "deletable": false,
    "editable": false
   },
   "outputs": [],
   "source": [
    "import unittest"
   ]
  },
  {
   "cell_type": "markdown",
   "metadata": {},
   "source": [
    "## 00. Define a function named `calculate_movie_minutes(hours, mins)` which returns the time of a movie in minutes from hours and minutes\n",
    "\n",
    "- Expected inputs：2 numerics `hours` and `mins`\n",
    "- Expected outputs：a numeric"
   ]
  },
  {
   "cell_type": "code",
   "execution_count": 2,
   "metadata": {},
   "outputs": [],
   "source": [
    "def calculate_movie_minutes(hours, mins):\n",
    "    \"\"\"\n",
    "    >>> calculate_movie_minutes(3, 1)  # Avengers: Endgame\n",
    "    181\n",
    "    >>> calculate_movie_minutes(2, 29) # Avengers: Infinity War\n",
    "    149\n",
    "    >>> calculate_movie_minutes(2, 21) # Avengers: Age of Ultron\n",
    "    141\n",
    "    >>> calculate_movie_minutes(2, 23) # The Avengers\n",
    "    143\n",
    "    \"\"\"\n",
    "    ### BEGIN SOLUTION\n",
    "    \n",
    "    ### END SOLUTION"
   ]
  },
  {
   "cell_type": "markdown",
   "metadata": {},
   "source": [
    "## 01. Define a function named `fahrenheit_to_celsius(degree)` which converts Fahrenheit degrees to Celsius degrees\n",
    "\n",
    "\\begin{equation}\n",
    "Celsius^{\\circ} C = (Fahrenheit^{\\circ} F - 32) \\times \\frac{5}{9}\n",
    "\\end{equation}\n",
    "\n",
    "- Expected inputs：a numeric `degree`\n",
    "- Expected outputs：a numeric"
   ]
  },
  {
   "cell_type": "code",
   "execution_count": 3,
   "metadata": {},
   "outputs": [],
   "source": [
    "def fahrenheit_to_celsius(degree):\n",
    "    \"\"\"\n",
    "    >>> fahrenheit_to_celsius(212)\n",
    "    100.0\n",
    "    >>> fahrenheit_to_celsius(32)\n",
    "    0.0\n",
    "    \"\"\"\n",
    "    ### BEGIN SOLUTION\n",
    "    \n",
    "    ### END SOLUTION"
   ]
  },
  {
   "cell_type": "markdown",
   "metadata": {},
   "source": [
    "## 02. Define a function named `calculate_bmi(height, weight)` which calculates BMI according to heights in meters and weights in kilograms\n",
    "\n",
    "\\begin{equation}\n",
    "BMI = \\frac{weight_{kg}}{height_{m}^2}\n",
    "\\end{equation}\n",
    "\n",
    "- Expected inputs：2 numerics `height` and `weight`\n",
    "- Expected outputs：a numeric"
   ]
  },
  {
   "cell_type": "code",
   "execution_count": 4,
   "metadata": {},
   "outputs": [],
   "source": [
    "def calculate_bmi(height, weight):\n",
    "    \"\"\"\n",
    "    >>> calculate_bmi(216, 147) # Shaquille O'Neal in his prime\n",
    "    31.507201646090532\n",
    "    >>> calculate_bmi(198, 129) # Zion Williamson \n",
    "    32.90480563207836\n",
    "    >>> calculate_bmi(206, 113) # LeBron James\n",
    "    26.628334433028563\n",
    "    >>> calculate_bmi(211, 110) # Giannis Antetokounmpo\n",
    "    24.70744143213315\n",
    "    >>> calculate_bmi(231, 91)  # Manute Bol\n",
    "    17.05365341728978\n",
    "    \"\"\"\n",
    "    ### BEGIN SOLUTION\n",
    "    \n",
    "    ### END SOLUTION"
   ]
  },
  {
   "cell_type": "markdown",
   "metadata": {},
   "source": [
    "## 03. Define a function named `is_positive(x)` which returns whether x is a positive integer or not\n",
    "\n",
    "- Expected inputs：an integer `x`\n",
    "- Expected outputs：a bool"
   ]
  },
  {
   "cell_type": "code",
   "execution_count": 5,
   "metadata": {},
   "outputs": [],
   "source": [
    "def is_positive(x):\n",
    "    \"\"\"\n",
    "    >>> is_positive(5566)\n",
    "    True\n",
    "    >>> is_positive(-5566)\n",
    "    False\n",
    "    >>> is_positive(0)\n",
    "    True\n",
    "    \"\"\"\n",
    "    ### BEGIN SOLUTION\n",
    "    \n",
    "    ### END SOLUTION"
   ]
  },
  {
   "cell_type": "markdown",
   "metadata": {},
   "source": [
    "## 04. Define a function named `is_odd(x)` which returns whether x is an odd or not\n",
    "\n",
    "- Expected inputs：an integer `x`\n",
    "- Expected outputs：a bool"
   ]
  },
  {
   "cell_type": "code",
   "execution_count": 6,
   "metadata": {},
   "outputs": [],
   "source": [
    "def is_odd(x):\n",
    "    \"\"\"\n",
    "    >>> is_odd(0)\n",
    "    False\n",
    "    >>> is_odd(1)\n",
    "    True\n",
    "    >>> is_odd(2)\n",
    "    False\n",
    "    >>> is_odd(3)\n",
    "    True\n",
    "    \"\"\"\n",
    "    ### BEGIN SOLUTION\n",
    "    \n",
    "    ### END SOLUTION"
   ]
  },
  {
   "cell_type": "markdown",
   "metadata": {},
   "source": [
    "## 05. Define a function named `is_a_factor(x, y)` which returns whether x is a factor of y or not\n",
    "\n",
    "- Expected inputs：2 integers `x` and `y`\n",
    "- Expected outputs：a bool"
   ]
  },
  {
   "cell_type": "code",
   "execution_count": 7,
   "metadata": {},
   "outputs": [],
   "source": [
    "def is_a_factor(x, y):\n",
    "    \"\"\"\n",
    "    >>> is_a_factor(1, 3)\n",
    "    True\n",
    "    >>> is_a_factor(2, 3)\n",
    "    False\n",
    "    >>> is_a_factor(3, 3)\n",
    "    True\n",
    "    >>> is_a_factor(1, 4)\n",
    "    True\n",
    "    >>> is_a_factor(2, 4)\n",
    "    True\n",
    "    >>> is_a_factor(3, 4)\n",
    "    False\n",
    "    >>> is_a_factor(4, 4)\n",
    "    True\n",
    "    \"\"\"\n",
    "    ### BEGIN SOLUTION\n",
    "    \n",
    "    ### END SOLUTION"
   ]
  },
  {
   "cell_type": "markdown",
   "metadata": {},
   "source": [
    "## 06. Define a function named `is_a_none(x)` which returns whether x is a `NoneType` or not\n",
    "\n",
    "- Expected inputs：a `x` with unknown type\n",
    "- Expected outputs：a bool"
   ]
  },
  {
   "cell_type": "code",
   "execution_count": 8,
   "metadata": {},
   "outputs": [],
   "source": [
    "def is_a_none(x):\n",
    "    \"\"\"\n",
    "    >>> is_a_none('None')\n",
    "    False\n",
    "    >>> is_a_none('')\n",
    "    False\n",
    "    >>> is_a_none(0)\n",
    "    False\n",
    "    >>> is_a_none(False)\n",
    "    False\n",
    "    >>> is_a_none(None)\n",
    "    True\n",
    "    \"\"\"\n",
    "    ### BEGIN SOLUTION\n",
    "    \n",
    "    ### END SOLUTION"
   ]
  },
  {
   "cell_type": "markdown",
   "metadata": {},
   "source": [
    "## 07. Define a function named `is_a_bool(x)` which returns whether x is a `bool` or not\n",
    "\n",
    "- Expected inputs：an unknown type `x`\n",
    "- Expected outputs：a bool"
   ]
  },
  {
   "cell_type": "code",
   "execution_count": 9,
   "metadata": {},
   "outputs": [],
   "source": [
    "def is_a_bool(x):\n",
    "    \"\"\"\n",
    "    >>> is_a_bool('False')\n",
    "    False\n",
    "    >>> is_a_bool('True')\n",
    "    False\n",
    "    >>> is_a_bool(0)\n",
    "    False\n",
    "    >>> is_a_bool(1)\n",
    "    False\n",
    "    >>> is_a_bool(True)\n",
    "    True\n",
    "    >>> is_a_bool(False)\n",
    "    True\n",
    "    \"\"\"\n",
    "    ### BEGIN SOLUTION\n",
    "    \n",
    "    ### END SOLUTION"
   ]
  },
  {
   "cell_type": "markdown",
   "metadata": {},
   "source": [
    "## 08. Define a function named `contains_vowels(x)` which returns whether x contains one of the vowels (a, e, i, o, u) or not\n",
    "\n",
    "- Expected inputs：a string `x`\n",
    "- Expected outputs：a bool"
   ]
  },
  {
   "cell_type": "code",
   "execution_count": 10,
   "metadata": {},
   "outputs": [],
   "source": [
    "def contains_vowels(x):\n",
    "    \"\"\"\n",
    "    >>> contains_vowels('pythn')\n",
    "    False\n",
    "    >>> contains_vowels('ncnd')\n",
    "    False\n",
    "    >>> contains_vowels('rtclt')\n",
    "    False\n",
    "    >>> contains_vowels('python')\n",
    "    True\n",
    "    >>> contains_vowels('anaconda')\n",
    "    True\n",
    "    >>> contains_vowels('reticulate')\n",
    "    True\n",
    "    \"\"\"\n",
    "    ### BEGIN SOLUTION\n",
    "    \n",
    "    ### END SOLUTION"
   ]
  },
  {
   "cell_type": "markdown",
   "metadata": {},
   "source": [
    "## 09. Define a function named `contains_all_the_vowels(x)` which returns whether x contains all the vowels (a, e, i, o, u) or not\n",
    "\n",
    "- Expected inputs：a string `x`\n",
    "- Expected outputs：a bool"
   ]
  },
  {
   "cell_type": "code",
   "execution_count": 11,
   "metadata": {},
   "outputs": [],
   "source": [
    "def contains_all_the_vowels(x):\n",
    "    \"\"\"\n",
    "    >>> contains_all_the_vowels('python')\n",
    "    False\n",
    "    >>> contains_all_the_vowels('anaconda')\n",
    "    False\n",
    "    >>> contains_all_the_vowels('reticulate')\n",
    "    False\n",
    "    >>> contains_all_the_vowels('python anaconda')\n",
    "    False\n",
    "    >>> contains_all_the_vowels('anaconda reticulate')\n",
    "    True\n",
    "    \"\"\"\n",
    "    ### BEGIN SOLUTION\n",
    "    \n",
    "    ### END SOLUTION"
   ]
  },
  {
   "cell_type": "markdown",
   "metadata": {
    "deletable": false,
    "editable": false
   },
   "source": [
    "## Run tests!\n",
    "\n",
    "Kernel -> Restart & Run All. -> Restart and Run All Cells."
   ]
  },
  {
   "cell_type": "code",
   "execution_count": 12,
   "metadata": {
    "deletable": false,
    "editable": false
   },
   "outputs": [
    {
     "name": "stderr",
     "output_type": "stream",
     "text": [
      "test_00_calculate_movie_minutes (__main__.TestHomeworkZero) ... FAIL\n",
      "test_01_fahrenheit_to_celsius (__main__.TestHomeworkZero) ... ERROR\n",
      "test_02_calculate_bmi (__main__.TestHomeworkZero) ... ERROR\n",
      "test_03_is_positive (__main__.TestHomeworkZero) ... FAIL\n",
      "test_04_is_odd (__main__.TestHomeworkZero) ... FAIL\n",
      "test_05_is_a_factor (__main__.TestHomeworkZero) ... FAIL\n",
      "test_06_is_a_none (__main__.TestHomeworkZero) ... FAIL\n",
      "test_07_is_a_bool (__main__.TestHomeworkZero) ... FAIL\n",
      "test_08_contains_vowels (__main__.TestHomeworkZero) ... FAIL\n",
      "test_09_contains_all_the_vowels (__main__.TestHomeworkZero) ... FAIL\n",
      "\n",
      "======================================================================\n",
      "ERROR: test_01_fahrenheit_to_celsius (__main__.TestHomeworkZero)\n",
      "----------------------------------------------------------------------\n",
      "Traceback (most recent call last):\n",
      "  File \"<ipython-input-12-ff7d690605b9>\", line 8, in test_01_fahrenheit_to_celsius\n",
      "    self.assertAlmostEqual(fahrenheit_to_celsius(212), 100.0)\n",
      "  File \"/Users/kuoyaojen/opt/miniconda3/lib/python3.8/unittest/case.py\", line 943, in assertAlmostEqual\n",
      "    diff = abs(first - second)\n",
      "TypeError: unsupported operand type(s) for -: 'NoneType' and 'float'\n",
      "\n",
      "======================================================================\n",
      "ERROR: test_02_calculate_bmi (__main__.TestHomeworkZero)\n",
      "----------------------------------------------------------------------\n",
      "Traceback (most recent call last):\n",
      "  File \"<ipython-input-12-ff7d690605b9>\", line 11, in test_02_calculate_bmi\n",
      "    self.assertAlmostEqual(calculate_bmi(216, 147), 31.507201646090532)\n",
      "  File \"/Users/kuoyaojen/opt/miniconda3/lib/python3.8/unittest/case.py\", line 943, in assertAlmostEqual\n",
      "    diff = abs(first - second)\n",
      "TypeError: unsupported operand type(s) for -: 'NoneType' and 'float'\n",
      "\n",
      "======================================================================\n",
      "FAIL: test_00_calculate_movie_minutes (__main__.TestHomeworkZero)\n",
      "----------------------------------------------------------------------\n",
      "Traceback (most recent call last):\n",
      "  File \"<ipython-input-12-ff7d690605b9>\", line 3, in test_00_calculate_movie_minutes\n",
      "    self.assertEqual(calculate_movie_minutes(3, 1), 181)\n",
      "AssertionError: None != 181\n",
      "\n",
      "======================================================================\n",
      "FAIL: test_03_is_positive (__main__.TestHomeworkZero)\n",
      "----------------------------------------------------------------------\n",
      "Traceback (most recent call last):\n",
      "  File \"<ipython-input-12-ff7d690605b9>\", line 17, in test_03_is_positive\n",
      "    self.assertTrue(is_positive(5566))\n",
      "AssertionError: None is not true\n",
      "\n",
      "======================================================================\n",
      "FAIL: test_04_is_odd (__main__.TestHomeworkZero)\n",
      "----------------------------------------------------------------------\n",
      "Traceback (most recent call last):\n",
      "  File \"<ipython-input-12-ff7d690605b9>\", line 22, in test_04_is_odd\n",
      "    self.assertTrue(is_odd(1))\n",
      "AssertionError: None is not true\n",
      "\n",
      "======================================================================\n",
      "FAIL: test_05_is_a_factor (__main__.TestHomeworkZero)\n",
      "----------------------------------------------------------------------\n",
      "Traceback (most recent call last):\n",
      "  File \"<ipython-input-12-ff7d690605b9>\", line 26, in test_05_is_a_factor\n",
      "    self.assertTrue(is_a_factor(1, 2))\n",
      "AssertionError: None is not true\n",
      "\n",
      "======================================================================\n",
      "FAIL: test_06_is_a_none (__main__.TestHomeworkZero)\n",
      "----------------------------------------------------------------------\n",
      "Traceback (most recent call last):\n",
      "  File \"<ipython-input-12-ff7d690605b9>\", line 39, in test_06_is_a_none\n",
      "    self.assertTrue(is_a_none(None))\n",
      "AssertionError: None is not true\n",
      "\n",
      "======================================================================\n",
      "FAIL: test_07_is_a_bool (__main__.TestHomeworkZero)\n",
      "----------------------------------------------------------------------\n",
      "Traceback (most recent call last):\n",
      "  File \"<ipython-input-12-ff7d690605b9>\", line 45, in test_07_is_a_bool\n",
      "    self.assertTrue(is_a_bool(True))\n",
      "AssertionError: None is not true\n",
      "\n",
      "======================================================================\n",
      "FAIL: test_08_contains_vowels (__main__.TestHomeworkZero)\n",
      "----------------------------------------------------------------------\n",
      "Traceback (most recent call last):\n",
      "  File \"<ipython-input-12-ff7d690605b9>\", line 51, in test_08_contains_vowels\n",
      "    self.assertTrue(contains_vowels('python'))\n",
      "AssertionError: None is not true\n",
      "\n",
      "======================================================================\n",
      "FAIL: test_09_contains_all_the_vowels (__main__.TestHomeworkZero)\n",
      "----------------------------------------------------------------------\n",
      "Traceback (most recent call last):\n",
      "  File \"<ipython-input-12-ff7d690605b9>\", line 59, in test_09_contains_all_the_vowels\n",
      "    self.assertTrue(contains_all_the_vowels('anaconda reticulate'))\n",
      "AssertionError: None is not true\n",
      "\n",
      "----------------------------------------------------------------------\n",
      "Ran 10 tests in 0.041s\n",
      "\n",
      "FAILED (failures=8, errors=2)\n"
     ]
    }
   ],
   "source": [
    "class TestHomeworkZero(unittest.TestCase):\n",
    "    def test_00_calculate_movie_minutes(self):\n",
    "        self.assertEqual(calculate_movie_minutes(3, 1), 181)\n",
    "        self.assertEqual(calculate_movie_minutes(2, 29), 149)\n",
    "        self.assertEqual(calculate_movie_minutes(2, 21), 141)\n",
    "        self.assertEqual(calculate_movie_minutes(2, 23), 143)\n",
    "    def test_01_fahrenheit_to_celsius(self):\n",
    "        self.assertAlmostEqual(fahrenheit_to_celsius(212), 100.0)\n",
    "        self.assertAlmostEqual(fahrenheit_to_celsius(32), 0.0)\n",
    "    def test_02_calculate_bmi(self):\n",
    "        self.assertAlmostEqual(calculate_bmi(216, 147), 31.507201646090532)\n",
    "        self.assertAlmostEqual(calculate_bmi(198, 129), 32.90480563207836)\n",
    "        self.assertAlmostEqual(calculate_bmi(206, 113), 26.628334433028563)\n",
    "        self.assertAlmostEqual(calculate_bmi(211, 110), 24.70744143213315)\n",
    "        self.assertAlmostEqual(calculate_bmi(231, 91), 17.05365341728978)\n",
    "    def test_03_is_positive(self):\n",
    "        self.assertTrue(is_positive(5566))\n",
    "        self.assertFalse(is_positive(-5566))\n",
    "        self.assertTrue(is_positive(0))\n",
    "    def test_04_is_odd(self):\n",
    "        self.assertFalse(is_odd(0))\n",
    "        self.assertTrue(is_odd(1))\n",
    "        self.assertFalse(is_odd(2))\n",
    "        self.assertTrue(is_odd(3))\n",
    "    def test_05_is_a_factor(self):\n",
    "        self.assertTrue(is_a_factor(1, 2))\n",
    "        self.assertTrue(is_a_factor(2, 2))\n",
    "        self.assertTrue(is_a_factor(1, 3))\n",
    "        self.assertFalse(is_a_factor(2, 3))\n",
    "        self.assertTrue(is_a_factor(1, 4))\n",
    "        self.assertTrue(is_a_factor(2, 4))\n",
    "        self.assertFalse(is_a_factor(3, 4))\n",
    "        self.assertTrue(is_a_factor(4, 4))\n",
    "    def test_06_is_a_none(self):\n",
    "        self.assertFalse(is_a_none('None'))\n",
    "        self.assertFalse(is_a_none(''))\n",
    "        self.assertFalse(is_a_none(0))\n",
    "        self.assertFalse(is_a_none(False))\n",
    "        self.assertTrue(is_a_none(None))\n",
    "    def test_07_is_a_bool(self):\n",
    "        self.assertFalse(is_a_bool('False'))\n",
    "        self.assertFalse(is_a_bool('True'))\n",
    "        self.assertFalse(is_a_bool(0))\n",
    "        self.assertFalse(is_a_bool(1))\n",
    "        self.assertTrue(is_a_bool(True))\n",
    "        self.assertTrue(is_a_bool(False))\n",
    "    def test_08_contains_vowels(self):\n",
    "        self.assertFalse(contains_vowels('pythn'))\n",
    "        self.assertFalse(contains_vowels('ncnd'))\n",
    "        self.assertFalse(contains_vowels('rtclt'))\n",
    "        self.assertTrue(contains_vowels('python'))\n",
    "        self.assertTrue(contains_vowels('anaconda'))\n",
    "        self.assertTrue(contains_vowels('reticulate'))\n",
    "    def test_09_contains_all_the_vowels(self):\n",
    "        self.assertFalse(contains_all_the_vowels('python'))\n",
    "        self.assertFalse(contains_all_the_vowels('anaconda'))\n",
    "        self.assertFalse(contains_all_the_vowels('reticulate'))\n",
    "        self.assertFalse(contains_all_the_vowels('python anaconda'))\n",
    "        self.assertTrue(contains_all_the_vowels('anaconda reticulate'))\n",
    "\n",
    "suite = unittest.TestLoader().loadTestsFromTestCase(TestHomeworkZero)\n",
    "runner = unittest.TextTestRunner(verbosity=2)\n",
    "test_results = runner.run(suite)\n",
    "number_of_failures = len(test_results.failures)\n",
    "number_of_errors = len(test_results.errors)\n",
    "number_of_test_runs = test_results.testsRun\n",
    "number_of_successes = number_of_test_runs - (number_of_failures + number_of_errors)"
   ]
  },
  {
   "cell_type": "code",
   "execution_count": 13,
   "metadata": {
    "deletable": false,
    "editable": false
   },
   "outputs": [
    {
     "name": "stdout",
     "output_type": "stream",
     "text": [
      "You've got 0 successes among 10 questions.\n"
     ]
    }
   ],
   "source": [
    "print(\"You've got {} successes among {} questions.\".format(number_of_successes, number_of_test_runs))"
   ]
  }
 ],
 "metadata": {
  "kernelspec": {
   "display_name": "Python 3",
   "language": "python",
   "name": "python3"
  },
  "language_info": {
   "codemirror_mode": {
    "name": "ipython",
    "version": 3
   },
   "file_extension": ".py",
   "mimetype": "text/x-python",
   "name": "python",
   "nbconvert_exporter": "python",
   "pygments_lexer": "ipython3",
   "version": "3.8.5"
  }
 },
 "nbformat": 4,
 "nbformat_minor": 4
}
