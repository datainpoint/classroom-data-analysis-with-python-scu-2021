{
 "cells": [
  {
   "cell_type": "markdown",
   "id": "headed-garden",
   "metadata": {
    "slideshow": {
     "slide_type": "slide"
    }
   },
   "source": [
    "# Python 程式語言初級班工作坊\n",
    "\n",
    "> Python 介紹，東吳大學，2021-05-06\n",
    "\n",
    "[數據交點](https://www.datainpoint.com) | 郭耀仁 <yaojenkuo@datainpoint.com>"
   ]
  },
  {
   "cell_type": "markdown",
   "id": "cooked-investigation",
   "metadata": {
    "slideshow": {
     "slide_type": "slide"
    }
   },
   "source": [
    "## 資料結構"
   ]
  },
  {
   "cell_type": "markdown",
   "id": "frozen-plane",
   "metadata": {
    "slideshow": {
     "slide_type": "subslide"
    }
   },
   "source": [
    "## 什麼是資料結構\n",
    "\n",
    "> 在電腦中用來儲存以及組織資料的機制，可以透過程式語言所提供的資料類型與自行定義類別實現，一個設計良好的資料結構，會在儘可能使用較少的時間與空間資源下，支援各種程式執行。\n",
    "\n",
    "Source: <https://en.wikipedia.org/wiki/Data_structure>"
   ]
  },
  {
   "cell_type": "markdown",
   "id": "eligible-distinction",
   "metadata": {
    "slideshow": {
     "slide_type": "subslide"
    }
   },
   "source": [
    "## 為什麼需要資料結構\n",
    "\n",
    "- 在軟體工程師日常的工作任務中，資料處理佔有相當高的比例。\n",
    "- 需要有一個機制能夠協助他們輸入、處理最後輸出資料。\n",
    "- 這個「機制」就是**資料結構**。"
   ]
  },
  {
   "cell_type": "markdown",
   "id": "heard-classics",
   "metadata": {
    "slideshow": {
     "slide_type": "subslide"
    }
   },
   "source": [
    "## 四個內建的 Python 基礎資料結構\n",
    "\n",
    "- `list`\n",
    "- `tuple`\n",
    "- `dict` 字典的簡稱\n",
    "- `set`"
   ]
  },
  {
   "cell_type": "markdown",
   "id": "demographic-heating",
   "metadata": {
    "slideshow": {
     "slide_type": "subslide"
    }
   },
   "source": [
    "## `list`\n",
    "\n",
    "- `list` 是一種「有序」且能夠「更新」的資料結構。\n",
    "- `list` 可以透過「逗號」`,` 與「中括號」`[]` 宣告而成。"
   ]
  },
  {
   "cell_type": "markdown",
   "id": "mounted-correlation",
   "metadata": {
    "slideshow": {
     "slide_type": "subslide"
    }
   },
   "source": [
    "## 宣告一個 `list`"
   ]
  },
  {
   "cell_type": "code",
   "execution_count": 1,
   "id": "collective-convenience",
   "metadata": {},
   "outputs": [
    {
     "data": {
      "text/plain": [
       "list"
      ]
     },
     "execution_count": 1,
     "metadata": {},
     "output_type": "execute_result"
    }
   ],
   "source": [
    "primes = [2, 3, 5, 7, 11]\n",
    "type(primes) # use type() to check type"
   ]
  },
  {
   "cell_type": "markdown",
   "id": "addressed-province",
   "metadata": {
    "slideshow": {
     "slide_type": "subslide"
    }
   },
   "source": [
    "## 使用內建函數 `len`  得知一個 `list` 中有幾個資料值"
   ]
  },
  {
   "cell_type": "code",
   "execution_count": 2,
   "id": "universal-diving",
   "metadata": {},
   "outputs": [
    {
     "data": {
      "text/plain": [
       "5"
      ]
     },
     "execution_count": 2,
     "metadata": {},
     "output_type": "execute_result"
    }
   ],
   "source": [
    "len(primes) # use len() to check length"
   ]
  },
  {
   "cell_type": "markdown",
   "id": "lasting-scanning",
   "metadata": {
    "slideshow": {
     "slide_type": "subslide"
    }
   },
   "source": [
    "## 從一個 `list` 中取出資料的方式\n",
    "\n",
    "- **Indexing** 索引指的是從一個 `list` 中取出特定位置的單個資料值。\n",
    "- **Slicing** 切割指的是從一個 `list` 中擷取特定的片段。"
   ]
  },
  {
   "cell_type": "markdown",
   "id": "familiar-intermediate",
   "metadata": {
    "slideshow": {
     "slide_type": "subslide"
    }
   },
   "source": [
    "## Indexing 索引 `[index]`\n",
    "\n",
    "`list` 採用兩個方向的索引機制：\n",
    "1. 由左至右：「從零開始」的索引機制。\n",
    "2. 由右至左：「從負一開始」的索引機制。"
   ]
  },
  {
   "cell_type": "code",
   "execution_count": 3,
   "id": "manual-hammer",
   "metadata": {
    "slideshow": {
     "slide_type": "subslide"
    }
   },
   "outputs": [
    {
     "name": "stdout",
     "output_type": "stream",
     "text": [
      "2\n",
      "3\n",
      "11\n",
      "7\n"
     ]
    }
   ],
   "source": [
    "print(primes[0])  # the first element\n",
    "print(primes[1])  # the second element\n",
    "print(primes[-1]) # the last element\n",
    "print(primes[-2]) # the second last element"
   ]
  },
  {
   "cell_type": "markdown",
   "id": "quality-applicant",
   "metadata": {
    "slideshow": {
     "slide_type": "subslide"
    }
   },
   "source": [
    "## Slicing 切割 `[start:stop:step]`\n",
    "\n",
    "除了可以取出特定位置的單個資料值，`list` 也支援擷取特定片段，藉此獲得一個較短長度 `list` 的語法。\n",
    "\n",
    "- `start` 起始位置（包含）。\n",
    "- `stop` 終止位置（排除）。\n",
    "- `step` 間隔。"
   ]
  },
  {
   "cell_type": "code",
   "execution_count": 4,
   "id": "advanced-burning",
   "metadata": {
    "slideshow": {
     "slide_type": "subslide"
    }
   },
   "outputs": [
    {
     "name": "stdout",
     "output_type": "stream",
     "text": [
      "[2, 3, 5]\n",
      "[5, 7, 11]\n",
      "[2, 5, 11]\n"
     ]
    }
   ],
   "source": [
    "print(primes[0:3:1])            # slicing the first 3 elements\n",
    "print(primes[-3:len(primes):1]) # slicing the last 3 elements \n",
    "print(primes[0:len(primes):2])  # slicing every second element"
   ]
  },
  {
   "cell_type": "markdown",
   "id": "endangered-transformation",
   "metadata": {
    "slideshow": {
     "slide_type": "subslide"
    }
   },
   "source": [
    "## Slicing 切割如果沒有指定 `start:stop:step`，就採用其預設值\n",
    "\n",
    "- `start` 起始位置（包含）預設為 `0`。\n",
    "- `stop` 終止位置（排除）預設為 `list` 的長度。\n",
    "- `step` 間隔預設為 `1`。"
   ]
  },
  {
   "cell_type": "code",
   "execution_count": 5,
   "id": "mineral-wrist",
   "metadata": {
    "slideshow": {
     "slide_type": "subslide"
    }
   },
   "outputs": [
    {
     "name": "stdout",
     "output_type": "stream",
     "text": [
      "[2, 3, 5]\n",
      "[5, 7, 11]\n",
      "[2, 5, 11]\n"
     ]
    }
   ],
   "source": [
    "print(primes[:3])  # slicing the first 3 elements\n",
    "print(primes[-3:]) # slicing the last 3 elements \n",
    "print(primes[::2]) # slicing every second element"
   ]
  },
  {
   "cell_type": "markdown",
   "id": "offensive-transparency",
   "metadata": {
    "slideshow": {
     "slide_type": "subslide"
    }
   },
   "source": [
    "## 透過宣告來更新 `list` 中的資料值"
   ]
  },
  {
   "cell_type": "code",
   "execution_count": 6,
   "id": "scheduled-nashville",
   "metadata": {},
   "outputs": [
    {
     "name": "stdout",
     "output_type": "stream",
     "text": [
      "[2, 3, 5, 7, 11]\n",
      "[2, 3, 5, 7, 13]\n"
     ]
    }
   ],
   "source": [
    "print(primes)   # before update\n",
    "primes[-1] = 13 # update\n",
    "print(primes)   # after update"
   ]
  },
  {
   "cell_type": "markdown",
   "id": "revolutionary-territory",
   "metadata": {
    "slideshow": {
     "slide_type": "subslide"
    }
   },
   "source": [
    "## 也可以透過 `list` 的多種方法更新它\n",
    "\n",
    "- `.append()`\n",
    "- `.pop()`\n",
    "- `.remove()`\n",
    "- `.insert()`\n",
    "- `.sort()`\n",
    "- ...等\n",
    "\n",
    "我們可以透過 `TAB` 與 `SHIFT - TAB` 在 Jupyter 介面中查詢方法的文件與提示。"
   ]
  },
  {
   "cell_type": "code",
   "execution_count": 7,
   "id": "directed-third",
   "metadata": {
    "slideshow": {
     "slide_type": "subslide"
    }
   },
   "outputs": [],
   "source": [
    "primes = [2, 3, 5, 7, 11]\n",
    "primes.append(13)         # appending an element to the end of a list\n",
    "primes.pop()              # popping out the last element of a list\n",
    "primes.remove(2)          # removing the first occurance of an element within a list\n",
    "primes.insert(0, 2)       # inserting certain element at a specific index\n",
    "primes.sort(reverse=True) # sorting a list, reverse=False => ascending order; reverse=True => descending order"
   ]
  },
  {
   "cell_type": "markdown",
   "id": "catholic-vessel",
   "metadata": {
    "slideshow": {
     "slide_type": "subslide"
    }
   },
   "source": [
    "## `tuple`\n",
    "\n",
    "- `tuple` 是一種「有序」且「不能夠更新」的資料結構。\n",
    "- `tuple` 可以透過「逗號」`,` 與「小括號」`()` 宣告而成。"
   ]
  },
  {
   "cell_type": "markdown",
   "id": "plain-spyware",
   "metadata": {
    "slideshow": {
     "slide_type": "subslide"
    }
   },
   "source": [
    "## 宣告一個 `tuple`"
   ]
  },
  {
   "cell_type": "code",
   "execution_count": 8,
   "id": "paperback-project",
   "metadata": {},
   "outputs": [
    {
     "data": {
      "text/plain": [
       "tuple"
      ]
     },
     "execution_count": 8,
     "metadata": {},
     "output_type": "execute_result"
    }
   ],
   "source": [
    "primes = (2, 3, 5, 7, 11)\n",
    "type(primes) # use type() to check type"
   ]
  },
  {
   "cell_type": "markdown",
   "id": "cardiac-divorce",
   "metadata": {
    "slideshow": {
     "slide_type": "subslide"
    }
   },
   "source": [
    "## 使用內建函數 `len`  得知一個 `tuple` 中有幾個資料值"
   ]
  },
  {
   "cell_type": "code",
   "execution_count": 9,
   "id": "incredible-company",
   "metadata": {},
   "outputs": [
    {
     "data": {
      "text/plain": [
       "5"
      ]
     },
     "execution_count": 9,
     "metadata": {},
     "output_type": "execute_result"
    }
   ],
   "source": [
    "len(primes)"
   ]
  },
  {
   "cell_type": "markdown",
   "id": "adapted-habitat",
   "metadata": {
    "slideshow": {
     "slide_type": "subslide"
    }
   },
   "source": [
    "## `tuple` 在許多地方的表現與 `list` 相同，像是支援索引以及切割"
   ]
  },
  {
   "cell_type": "code",
   "execution_count": 10,
   "id": "yellow-puzzle",
   "metadata": {},
   "outputs": [
    {
     "name": "stdout",
     "output_type": "stream",
     "text": [
      "2\n",
      "(2, 3, 5)\n"
     ]
    }
   ],
   "source": [
    "print(primes[0])   # the first element\n",
    "print(primes[:3])  # slicing the first 3 elements"
   ]
  },
  {
   "cell_type": "markdown",
   "id": "subtle-intranet",
   "metadata": {
    "slideshow": {
     "slide_type": "subslide"
    }
   },
   "source": [
    "## `tuple` 與 `list` 最大的不同點，在於 `tuple`「不能夠更新」的特性\n",
    "\n",
    "透過 `TAB` 與 `SHIFT - TAB` 在 Jupyter 介面中查詢 `tuple` 是否具有更新的方法。"
   ]
  },
  {
   "cell_type": "code",
   "execution_count": 11,
   "id": "dedicated-reproduction",
   "metadata": {},
   "outputs": [
    {
     "ename": "TypeError",
     "evalue": "'tuple' object does not support item assignment",
     "output_type": "error",
     "traceback": [
      "\u001b[0;31m---------------------------------------------------------------------------\u001b[0m",
      "\u001b[0;31mTypeError\u001b[0m                                 Traceback (most recent call last)",
      "\u001b[0;32m<ipython-input-11-e44636e18ec3>\u001b[0m in \u001b[0;36m<module>\u001b[0;34m\u001b[0m\n\u001b[0;32m----> 1\u001b[0;31m \u001b[0mprimes\u001b[0m\u001b[0;34m[\u001b[0m\u001b[0;34m-\u001b[0m\u001b[0;36m1\u001b[0m\u001b[0;34m]\u001b[0m \u001b[0;34m=\u001b[0m \u001b[0;36m13\u001b[0m\u001b[0;34m\u001b[0m\u001b[0;34m\u001b[0m\u001b[0m\n\u001b[0m",
      "\u001b[0;31mTypeError\u001b[0m: 'tuple' object does not support item assignment"
     ]
    }
   ],
   "source": [
    "primes[-1] = 13"
   ]
  },
  {
   "cell_type": "markdown",
   "id": "cardiac-nirvana",
   "metadata": {
    "slideshow": {
     "slide_type": "subslide"
    }
   },
   "source": [
    "## 在 Python 中有眾多的應用場景會遭遇到 `tuple`\n",
    "\n",
    "- 自行定義函數預設「多個輸出」的資料結構。\n",
    "- `dict` 的 `items()` 方法輸出。\n",
    "- 內建函數 `enumerate` 與 `zip` 的輸出。\n",
    "- ...等。"
   ]
  },
  {
   "cell_type": "markdown",
   "id": "common-guatemala",
   "metadata": {
    "slideshow": {
     "slide_type": "subslide"
    }
   },
   "source": [
    "## `dict`\n",
    "\n",
    "- `dict` 是一種使用「鍵值對應」關係（mappings of keys to values）的資料結構。\n",
    "- `dict` 可以透過「逗號」`,`、「鍵值對應」`key: value` 與「大括號」`{}` 宣告而成。"
   ]
  },
  {
   "cell_type": "code",
   "execution_count": 12,
   "id": "eight-destination",
   "metadata": {
    "slideshow": {
     "slide_type": "subslide"
    }
   },
   "outputs": [
    {
     "data": {
      "text/plain": [
       "dict"
      ]
     },
     "execution_count": 12,
     "metadata": {},
     "output_type": "execute_result"
    }
   ],
   "source": [
    "the_shawshank_redemption = {\n",
    "    'title': 'The Shawshank Redemption',\n",
    "    'year': 1994,\n",
    "    'rating': 9.3,\n",
    "    'director': 'Frank Darabont'\n",
    "}\n",
    "type(the_shawshank_redemption)"
   ]
  },
  {
   "cell_type": "markdown",
   "id": "unnecessary-alberta",
   "metadata": {
    "slideshow": {
     "slide_type": "subslide"
    }
   },
   "source": [
    "## 使用內建函數 `len`  得知一個 `dict` 中有幾組鍵值對應"
   ]
  },
  {
   "cell_type": "code",
   "execution_count": 13,
   "id": "annual-citation",
   "metadata": {
    "slideshow": {
     "slide_type": "subslide"
    }
   },
   "outputs": [
    {
     "data": {
      "text/plain": [
       "4"
      ]
     },
     "execution_count": 13,
     "metadata": {},
     "output_type": "execute_result"
    }
   ],
   "source": [
    "len(the_shawshank_redemption)"
   ]
  },
  {
   "cell_type": "markdown",
   "id": "excess-admission",
   "metadata": {
    "slideshow": {
     "slide_type": "subslide"
    }
   },
   "source": [
    "## `dict` 採用「以鍵取值」的索引機制"
   ]
  },
  {
   "cell_type": "code",
   "execution_count": 14,
   "id": "competent-arbor",
   "metadata": {},
   "outputs": [
    {
     "name": "stdout",
     "output_type": "stream",
     "text": [
      "The Shawshank Redemption\n",
      "1994\n",
      "9.3\n",
      "Frank Darabont\n"
     ]
    }
   ],
   "source": [
    "print(the_shawshank_redemption['title'])\n",
    "print(the_shawshank_redemption['year'])\n",
    "print(the_shawshank_redemption['rating'])\n",
    "print(the_shawshank_redemption['director'])"
   ]
  },
  {
   "cell_type": "markdown",
   "id": "numerical-table",
   "metadata": {
    "slideshow": {
     "slide_type": "subslide"
    }
   },
   "source": [
    "## 用來檢視 `dict` 的三個方法\n",
    "\n",
    "1. `.keys()` 檢視鍵。\n",
    "2. `.values()` 檢視值。\n",
    "3. `.items()` 檢視鍵值對應。"
   ]
  },
  {
   "cell_type": "code",
   "execution_count": 15,
   "id": "figured-textbook",
   "metadata": {
    "slideshow": {
     "slide_type": "subslide"
    }
   },
   "outputs": [
    {
     "name": "stdout",
     "output_type": "stream",
     "text": [
      "dict_keys(['title', 'year', 'rating', 'director'])\n",
      "dict_values(['The Shawshank Redemption', 1994, 9.3, 'Frank Darabont'])\n",
      "dict_items([('title', 'The Shawshank Redemption'), ('year', 1994), ('rating', 9.3), ('director', 'Frank Darabont')])\n"
     ]
    }
   ],
   "source": [
    "print(the_shawshank_redemption.keys())\n",
    "print(the_shawshank_redemption.values())\n",
    "print(the_shawshank_redemption.items())"
   ]
  },
  {
   "cell_type": "markdown",
   "id": "cloudy-tampa",
   "metadata": {
    "slideshow": {
     "slide_type": "subslide"
    }
   },
   "source": [
    "## 透過宣告新增 `dict` 中的鍵值對應"
   ]
  },
  {
   "cell_type": "code",
   "execution_count": 16,
   "id": "bottom-irish",
   "metadata": {},
   "outputs": [
    {
     "name": "stdout",
     "output_type": "stream",
     "text": [
      "{'title': 'The Shawshank Redemption', 'year': 1994, 'rating': 9.3, 'director': 'Frank Darabont', 'lead_actors': ['Tim Robbins', 'Morgan Freeman']}\n"
     ]
    }
   ],
   "source": [
    "the_shawshank_redemption['lead_actors'] = ['Tim Robbins', 'Morgan Freeman']\n",
    "print(the_shawshank_redemption)"
   ]
  },
  {
   "cell_type": "markdown",
   "id": "heated-choice",
   "metadata": {
    "slideshow": {
     "slide_type": "subslide"
    }
   },
   "source": [
    "## 使用 `del` 保留字刪除 `dict` 中的鍵值對應"
   ]
  },
  {
   "cell_type": "code",
   "execution_count": 17,
   "id": "cleared-identity",
   "metadata": {},
   "outputs": [
    {
     "name": "stdout",
     "output_type": "stream",
     "text": [
      "{'title': 'The Shawshank Redemption', 'year': 1994, 'rating': 9.3, 'director': 'Frank Darabont'}\n"
     ]
    }
   ],
   "source": [
    "del the_shawshank_redemption['lead_actors']\n",
    "print(the_shawshank_redemption)"
   ]
  },
  {
   "cell_type": "markdown",
   "id": "ranking-point",
   "metadata": {
    "slideshow": {
     "slide_type": "subslide"
    }
   },
   "source": [
    "## `set`\n",
    "\n",
    "- `set` 是一種「無序」、儲存「獨一值」並且能夠進行「集合運算」的資料結構。\n",
    "- `set` 可以透過「逗號」`,` 與「大括號」`{}` 宣告而成。"
   ]
  },
  {
   "cell_type": "code",
   "execution_count": 18,
   "id": "realistic-auction",
   "metadata": {
    "slideshow": {
     "slide_type": "subslide"
    }
   },
   "outputs": [
    {
     "name": "stdout",
     "output_type": "stream",
     "text": [
      "<class 'set'>\n",
      "<class 'set'>\n"
     ]
    }
   ],
   "source": [
    "primes = {2, 3, 5, 7, 11, 11} # 11 is duplicated\n",
    "odds = {1, 3, 5, 7, 9, 9}     # 9 is duplicated\n",
    "print(type(primes))\n",
    "print(type(odds))"
   ]
  },
  {
   "cell_type": "markdown",
   "id": "sorted-eight",
   "metadata": {
    "slideshow": {
     "slide_type": "subslide"
    }
   },
   "source": [
    "## 使用內建函數 `len`  得知一個 `set` 中有幾個獨一值"
   ]
  },
  {
   "cell_type": "code",
   "execution_count": 19,
   "id": "living-cattle",
   "metadata": {},
   "outputs": [
    {
     "name": "stdout",
     "output_type": "stream",
     "text": [
      "5\n",
      "5\n"
     ]
    }
   ],
   "source": [
    "print(len(primes))\n",
    "print(len(odds))"
   ]
  },
  {
   "cell_type": "markdown",
   "id": "meaningful-texas",
   "metadata": {
    "slideshow": {
     "slide_type": "subslide"
    }
   },
   "source": [
    "## `set` 最重要的特性是支援「集合運算」\n",
    "\n",
    "- 交集：使用 `&` 或者 `.intersection()` 方法。\n",
    "- 聯集：使用 `|` 或者 `.union()` 方法。\n",
    "- 差集：使用 `-` 或者 `.difference()` 方法。\n",
    "- 對稱差集：使用 `^` 或者 `.symmetric_difference()` 方法。"
   ]
  },
  {
   "cell_type": "markdown",
   "id": "forty-delta",
   "metadata": {
    "slideshow": {
     "slide_type": "subslide"
    }
   },
   "source": [
    "## 使用 `&` 或者 `.intersection()` 方法"
   ]
  },
  {
   "cell_type": "code",
   "execution_count": 20,
   "id": "crucial-uzbekistan",
   "metadata": {},
   "outputs": [
    {
     "name": "stdout",
     "output_type": "stream",
     "text": [
      "{3, 5, 7}\n",
      "{3, 5, 7}\n"
     ]
    }
   ],
   "source": [
    "print(primes & odds)             # with an operator\n",
    "print(primes.intersection(odds)) # equivalently with a method"
   ]
  },
  {
   "cell_type": "markdown",
   "id": "subjective-divide",
   "metadata": {
    "slideshow": {
     "slide_type": "subslide"
    }
   },
   "source": [
    "## 使用 `|` 或者 `.union()` 方法"
   ]
  },
  {
   "cell_type": "code",
   "execution_count": 21,
   "id": "plastic-frame",
   "metadata": {},
   "outputs": [
    {
     "name": "stdout",
     "output_type": "stream",
     "text": [
      "{1, 2, 3, 5, 7, 9, 11}\n",
      "{1, 2, 3, 5, 7, 9, 11}\n"
     ]
    }
   ],
   "source": [
    "print(primes | odds)      # with an operator\n",
    "print(primes.union(odds)) # equivalently with a method"
   ]
  },
  {
   "cell_type": "markdown",
   "id": "sharing-chair",
   "metadata": {
    "slideshow": {
     "slide_type": "subslide"
    }
   },
   "source": [
    "## 使用 `-` 或者 `.difference()` 方法"
   ]
  },
  {
   "cell_type": "code",
   "execution_count": 22,
   "id": "buried-florida",
   "metadata": {},
   "outputs": [
    {
     "name": "stdout",
     "output_type": "stream",
     "text": [
      "{2, 11}\n",
      "{2, 11}\n",
      "{1, 9}\n",
      "{1, 9}\n"
     ]
    }
   ],
   "source": [
    "print(primes - odds)           # with an operator\n",
    "print(primes.difference(odds)) # equivalently with a method\n",
    "print(odds - primes)           # with an operator\n",
    "print(odds.difference(primes)) # equivalently with a method"
   ]
  },
  {
   "cell_type": "markdown",
   "id": "graphic-montreal",
   "metadata": {
    "slideshow": {
     "slide_type": "subslide"
    }
   },
   "source": [
    "## 使用 `^` 或者 `.symmetric_difference()` 方法"
   ]
  },
  {
   "cell_type": "code",
   "execution_count": 23,
   "id": "compressed-vector",
   "metadata": {},
   "outputs": [
    {
     "name": "stdout",
     "output_type": "stream",
     "text": [
      "{1, 2, 9, 11}\n",
      "{1, 2, 9, 11}\n"
     ]
    }
   ],
   "source": [
    "print(primes ^ odds)                      # with an operator\n",
    "print(primes.symmetric_difference(odds))  # equivalently with a method"
   ]
  },
  {
   "cell_type": "markdown",
   "id": "stunning-antarctica",
   "metadata": {
    "slideshow": {
     "slide_type": "subslide"
    }
   },
   "source": [
    "## Python 資料結構最具威力的特性是「複合性」\n",
    "\n",
    "複合性的意思是資料結構中能夠儲存異質的資料類型與包含不同的資料結構。 \n",
    "\n",
    "- 資料類型：`int`/`float`/`str`/`bool`/`NoneType`\n",
    "- 資料結構：`list`/`tuple`/`dict`/`set` "
   ]
  },
  {
   "cell_type": "markdown",
   "id": "technological-hartford",
   "metadata": {
    "slideshow": {
     "slide_type": "slide"
    }
   },
   "source": [
    "## 載入資料"
   ]
  },
  {
   "cell_type": "markdown",
   "id": "applied-memorial",
   "metadata": {
    "slideshow": {
     "slide_type": "subslide"
    }
   },
   "source": [
    "## 截至目前為止，我們透過手動輸入建立資料\n",
    "\n",
    "常見的應用情境是透過「載入資料」成為資料結構進行資料處理與後續分析。"
   ]
  },
  {
   "cell_type": "markdown",
   "id": "confirmed-surface",
   "metadata": {
    "slideshow": {
     "slide_type": "subslide"
    }
   },
   "source": [
    "## 常見資料格式\n",
    "\n",
    "- 無結構的文字資料（Non-structured texts）。\n",
    "- JSON(**J**ava**S**cript **O**bject **N**otations)。\n",
    "- 表格形式資料（Tabular data）。"
   ]
  },
  {
   "cell_type": "markdown",
   "id": "controversial-married",
   "metadata": {
    "slideshow": {
     "slide_type": "subslide"
    }
   },
   "source": [
    "## 無結構的文字資料\n",
    "\n",
    "`the_shawshank_redemption_storyline.txt`\n",
    "\n",
    "```\n",
    "Chronicles the experiences of a formerly successful banker as a prisoner in the gloomy jailhouse of Shawshank after being found guilty of a crime he did not commit.\n",
    "The film portrays the man's unique way of dealing with his new, torturous life; along the way he befriends a number of fellow prisoners, most notably a wise long-term inmate named Red.\n",
    "```"
   ]
  },
  {
   "cell_type": "markdown",
   "id": "expanded-carolina",
   "metadata": {
    "slideshow": {
     "slide_type": "subslide"
    }
   },
   "source": [
    "## 載入無結構的文字資料\n",
    "\n",
    "- 透過內建函數 `open` 建立一個 `TextIOWrapper`。\n",
    "- 以 `TextIOWrapper` 的 `readlines` 方法將文字分行載入至 `list`。"
   ]
  },
  {
   "cell_type": "code",
   "execution_count": 24,
   "id": "unique-spirituality",
   "metadata": {
    "slideshow": {
     "slide_type": "subslide"
    }
   },
   "outputs": [
    {
     "name": "stdout",
     "output_type": "stream",
     "text": [
      "<class 'list'>\n",
      "['Chronicles the experiences of a formerly successful banker as a prisoner in the gloomy jailhouse of Shawshank after being found guilty of a crime he did not commit.\\n', \"The film portrays the man's unique way of dealing with his new, torturous life; along the way he befriends a number of fellow prisoners, most notably a wise long-term inmate named Red.\"]\n"
     ]
    }
   ],
   "source": [
    "file = open('the_shawshank_redemption_storyline.txt')\n",
    "storyline = file.readlines()\n",
    "file.close()\n",
    "print(type(storyline))\n",
    "print(storyline)"
   ]
  },
  {
   "cell_type": "markdown",
   "id": "modified-nickel",
   "metadata": {
    "slideshow": {
     "slide_type": "subslide"
    }
   },
   "source": [
    "## 如果擔心忘記關閉檔案造成非預期的錯誤，可以使用 `with` 保留字\n",
    "\n",
    "透過 `with` 可以確保檔案在縮排的區塊中使用完後會自動關閉。"
   ]
  },
  {
   "cell_type": "code",
   "execution_count": 25,
   "id": "empty-problem",
   "metadata": {
    "slideshow": {
     "slide_type": "-"
    }
   },
   "outputs": [
    {
     "name": "stdout",
     "output_type": "stream",
     "text": [
      "<class 'list'>\n",
      "['Chronicles the experiences of a formerly successful banker as a prisoner in the gloomy jailhouse of Shawshank after being found guilty of a crime he did not commit.\\n', \"The film portrays the man's unique way of dealing with his new, torturous life; along the way he befriends a number of fellow prisoners, most notably a wise long-term inmate named Red.\"]\n"
     ]
    }
   ],
   "source": [
    "with open('the_shawshank_redemption_storyline.txt') as file:\n",
    "    storyline = file.readlines()\n",
    "print(type(storyline))\n",
    "print(storyline)"
   ]
  },
  {
   "cell_type": "markdown",
   "id": "golden-router",
   "metadata": {
    "slideshow": {
     "slide_type": "subslide"
    }
   },
   "source": [
    "## 什麼是 JSON\n",
    "\n",
    "> JSON (JavaScript Object Notation) 是一種輕量的資料交換格式，由兩種結構組合而成：一是具有鍵值對應關係的資料結構，在不同的程式語言中可能被稱為 object、record、struct、**dictionary**、hash table、keyed list 或者 associative array。二是有序清單的資料結構，在不同的程式語言中可能被稱為 array、vector、**list** 或者 sequence。\n",
    "\n",
    "Source: <https://www.json.org/json-en.html>"
   ]
  },
  {
   "cell_type": "markdown",
   "id": "optical-comment",
   "metadata": {
    "slideshow": {
     "slide_type": "subslide"
    }
   },
   "source": [
    "## JSON\n",
    "\n",
    "`the_shawshank_redemption.json`\n",
    "\n",
    "```\n",
    "{\n",
    "    \"title\": \"The Shawshank Redemption\",\n",
    "    \"year\": 1994,\n",
    "    \"rating\": 9.3,\n",
    "    \"director\": \"Frank Darabont\"\n",
    "}\n",
    "```"
   ]
  },
  {
   "cell_type": "markdown",
   "id": "bridal-aruba",
   "metadata": {
    "slideshow": {
     "slide_type": "subslide"
    }
   },
   "source": [
    "## 載入 JSON\n",
    "\n",
    "- 透過內建函數 `open` 建立一個 `TextIOWrapper`。\n",
    "- 以 `json` 套件的 `load` 函數將 JSON 載入。"
   ]
  },
  {
   "cell_type": "code",
   "execution_count": 26,
   "id": "amino-decline",
   "metadata": {
    "slideshow": {
     "slide_type": "subslide"
    }
   },
   "outputs": [
    {
     "name": "stdout",
     "output_type": "stream",
     "text": [
      "<class 'dict'>\n",
      "{'title': 'The Shawshank Redemption', 'year': 1994, 'rating': 9.3, 'director': 'Frank Darabont'}\n"
     ]
    }
   ],
   "source": [
    "import json\n",
    "\n",
    "with open('the_shawshank_redemption.json') as file:\n",
    "    the_shawshank_redemption = json.load(file)\n",
    "print(type(the_shawshank_redemption))\n",
    "print(the_shawshank_redemption)"
   ]
  },
  {
   "cell_type": "markdown",
   "id": "minor-necessity",
   "metadata": {
    "slideshow": {
     "slide_type": "subslide"
    }
   },
   "source": [
    "## 什麼是表格形式資料\n",
    "\n",
    "> 表格形式資料是由列（rows）與欄（columns）所構成的有序資料集合，其中欄位通常採用名稱來標記、列則通常採用整數索引標記，每一列與每一欄的交匯處則稱之為儲存格（cells）。\n",
    "\n",
    "Source: <https://en.wikipedia.org/wiki/Table_(information)>"
   ]
  },
  {
   "cell_type": "markdown",
   "id": "loving-negotiation",
   "metadata": {
    "slideshow": {
     "slide_type": "subslide"
    }
   },
   "source": [
    "## 常見的表格形式資料\n",
    "\n",
    "- CSV(Comma Separated Values)\n",
    "- 試算表\n",
    "- 儲存於資料庫中的資料表"
   ]
  },
  {
   "cell_type": "markdown",
   "id": "spatial-recording",
   "metadata": {
    "slideshow": {
     "slide_type": "subslide"
    }
   },
   "source": [
    "## 在學習第三方套件 `pandas` 的時候，會介紹其中用來載入表格形式資料的函數\n",
    "\n",
    "<https://pandas.pydata.org/pandas-docs/stable/user_guide/io.html>"
   ]
  },
  {
   "cell_type": "markdown",
   "id": "excellent-prairie",
   "metadata": {
    "slideshow": {
     "slide_type": "slide"
    }
   },
   "source": [
    "## 流程控制"
   ]
  },
  {
   "cell_type": "markdown",
   "id": "heard-minute",
   "metadata": {
    "slideshow": {
     "slide_type": "subslide"
    }
   },
   "source": [
    "## 什麼是流程控制\n",
    "\n",
    "> 在程式執行時，特定區塊的程式碼執行的依據、重複次數以及先後順序等，像是特定條件成立的時候執行一段程式或者重複執行一段程式直到特定條件成立為止。\n",
    "\n",
    "Source: <https://en.wikipedia.org/wiki/Control_flow>"
   ]
  },
  {
   "cell_type": "markdown",
   "id": "interim-certificate",
   "metadata": {
    "slideshow": {
     "slide_type": "subslide"
    }
   },
   "source": [
    "## 常見的流程控制\n",
    "\n",
    "- 條件判斷\n",
    "- 迴圈\n",
    "    - `while` 迴圈\n",
    "    - `for` 迴圈"
   ]
  },
  {
   "cell_type": "markdown",
   "id": "average-criminal",
   "metadata": {
    "slideshow": {
     "slide_type": "subslide"
    }
   },
   "source": [
    "## 什麼是條件判斷\n",
    "\n",
    "> 條件判斷是依指定變數或者運算的布林值為真或假時，來決定是否執行一段位於某區塊內的程式，透過 `if-else` 指令可以根據指定條件是否成立，決定後續要執行的程式，也可以組合多個 `if-else` 指令進行更複雜的條件判斷。\n",
    "\n",
    "Source: https://en.wikipedia.org/wiki/Conditional_(computer_programming)"
   ]
  },
  {
   "cell_type": "markdown",
   "id": "entitled-retreat",
   "metadata": {
    "slideshow": {
     "slide_type": "subslide"
    }
   },
   "source": [
    "## 使用條件與縮排建立條件判斷\n",
    "\n",
    "- 條件指的是一段能夠被解讀為布林（`bool`）的敘述。\n",
    "- 縮排是 Python 用來辨識程式碼依附區塊的結構，要特別留意。\n",
    "\n",
    "```python\n",
    "if CONDITION:\n",
    "    # statements to be executed if CONDITION is evaluated as True.\n",
    "    # ...\n",
    "```"
   ]
  },
  {
   "cell_type": "markdown",
   "id": "alternate-interim",
   "metadata": {
    "slideshow": {
     "slide_type": "subslide"
    }
   },
   "source": [
    "## 多數程式語言使用大括號 `{}` 來標註程式碼所依附的指令\n",
    "\n",
    "- Python 使用**縮排**來標注。\n",
    "- 一段程式碼的依附關係從縮排開始直到第一個未縮排結束。\n",
    "- 縮排必須隨著依附指令的數量而增加。"
   ]
  },
  {
   "cell_type": "markdown",
   "id": "committed-mills",
   "metadata": {
    "slideshow": {
     "slide_type": "subslide"
    }
   },
   "source": [
    "## 使用關係運算符或者邏輯運算符生成布林\n",
    "\n",
    "- 關係運算符：`==`, `!=`, `>`, `<`, `>=`, `<=`, `in`, `not in`\n",
    "- 邏輯運算符：`and`, `or`, `not`"
   ]
  },
  {
   "cell_type": "markdown",
   "id": "indonesian-struggle",
   "metadata": {
    "slideshow": {
     "slide_type": "subslide"
    }
   },
   "source": [
    "## 使用 `if` 依據條件真假決定是否執行程式分支\n",
    "\n",
    "```python\n",
    "if CONDITION:\n",
    "    # statements to be executed if CONDITION is evaluated as True.\n",
    "    # ...\n",
    "```"
   ]
  },
  {
   "cell_type": "code",
   "execution_count": 27,
   "id": "toxic-breed",
   "metadata": {
    "slideshow": {
     "slide_type": "subslide"
    }
   },
   "outputs": [
    {
     "name": "stdout",
     "output_type": "stream",
     "text": [
      "5566 is positive.\n",
      "None\n"
     ]
    }
   ],
   "source": [
    "def return_msg_if_positive(x):\n",
    "    if x >= 0:\n",
    "        return \"{} is positive.\".format(x)\n",
    "\n",
    "print(return_msg_if_positive(5566))\n",
    "print(return_msg_if_positive(-5566))"
   ]
  },
  {
   "cell_type": "markdown",
   "id": "fourth-aside",
   "metadata": {
    "slideshow": {
     "slide_type": "subslide"
    }
   },
   "source": [
    "## 使用 `if` 與 `else` 依據條件真假執行不同程式分支\n",
    "\n",
    "```python\n",
    "if CONDITION:\n",
    "    # statements to be executed if CONDITION is evaluated as True.\n",
    "    # ...\n",
    "else:\n",
    "    # statements to be executed if CONDITION is evaluated as False.\n",
    "    # ...\n",
    "```"
   ]
  },
  {
   "cell_type": "code",
   "execution_count": 28,
   "id": "broke-somalia",
   "metadata": {
    "slideshow": {
     "slide_type": "subslide"
    }
   },
   "outputs": [
    {
     "name": "stdout",
     "output_type": "stream",
     "text": [
      "5566 is positive.\n",
      "-5566 is negative.\n"
     ]
    }
   ],
   "source": [
    "def return_msg_whether_positive_or_not(x):\n",
    "    if x >= 0:\n",
    "        msg = \"{} is positive.\".format(x)\n",
    "    else:\n",
    "        msg = \"{} is negative.\".format(x)\n",
    "    return msg\n",
    "\n",
    "print(return_msg_whether_positive_or_not(5566))\n",
    "print(return_msg_whether_positive_or_not(-5566))"
   ]
  },
  {
   "cell_type": "markdown",
   "id": "relevant-domestic",
   "metadata": {
    "slideshow": {
     "slide_type": "subslide"
    }
   },
   "source": [
    "## 使用 `if`、`elif` 與 `else` 依據條件真假執行不同程式分支\n",
    "\n",
    "```python\n",
    "if CONDITION_A:\n",
    "    # statements to be executed if CONDITION_A is evaluated as True.\n",
    "    # ...\n",
    "elif CONDITION_B:\n",
    "    # statements to be executed if CONDITION_B is evaluated as True.\n",
    "    # ...\n",
    "elif CONDITION_C:\n",
    "    # statements to be executed if CONDITION_C is evaluated as True.\n",
    "    # ...\n",
    "else:\n",
    "    # statements to be executed if CONDITION_A, CONDITION_B, and CONDITION_C are all evaluated as False.\n",
    "    # ...\n",
    "```"
   ]
  },
  {
   "cell_type": "code",
   "execution_count": 29,
   "id": "fiscal-tissue",
   "metadata": {
    "slideshow": {
     "slide_type": "subslide"
    }
   },
   "outputs": [
    {
     "name": "stdout",
     "output_type": "stream",
     "text": [
      "The modulo of 54 divided by 3 is 0.\n",
      "The modulo of 55 divided by 3 is 1.\n",
      "The modulo of 56 divided by 3 is 2.\n"
     ]
    }
   ],
   "source": [
    "def return_modulo_divided_by_three(x):\n",
    "    if x % 3 == 1:\n",
    "        msg = \"The modulo of {} divided by 3 is 1.\".format(x)\n",
    "    elif x % 3 == 2:\n",
    "        msg = \"The modulo of {} divided by 3 is 2.\".format(x)\n",
    "    else:\n",
    "        msg = \"The modulo of {} divided by 3 is 0.\".format(x)\n",
    "    return msg\n",
    "\n",
    "print(return_modulo_divided_by_three(54))\n",
    "print(return_modulo_divided_by_three(55))\n",
    "print(return_modulo_divided_by_three(56))"
   ]
  },
  {
   "cell_type": "markdown",
   "id": "fancy-illness",
   "metadata": {
    "slideshow": {
     "slide_type": "subslide"
    }
   },
   "source": [
    "## `if`、`elif` 與 `else` 形成的條件判斷結構僅會執行「一個」程式分支\n",
    "\n",
    "- 如果條件彼此之間互斥，寫作條件的先後順序**沒有**影響。\n",
    "- 如果條件彼此之間**非**互斥，寫作條件的先後順序**有**影響。"
   ]
  },
  {
   "cell_type": "markdown",
   "id": "middle-essay",
   "metadata": {
    "slideshow": {
     "slide_type": "subslide"
    }
   },
   "source": [
    "## 以「Fizz buzz」為例\n",
    "\n",
    "<https://en.wikipedia.org/wiki/Fizz_buzz>"
   ]
  },
  {
   "cell_type": "code",
   "execution_count": 30,
   "id": "suspended-relief",
   "metadata": {
    "slideshow": {
     "slide_type": "subslide"
    }
   },
   "outputs": [
    {
     "name": "stdout",
     "output_type": "stream",
     "text": [
      "2\n",
      "Fizz\n",
      "Buzz\n",
      "Fizz Buzz\n"
     ]
    }
   ],
   "source": [
    "def fizz_buzz(x):\n",
    "    if x % 15 == 0:\n",
    "        ans = \"Fizz Buzz\"\n",
    "    elif x % 3 == 0:\n",
    "        ans = \"Fizz\"\n",
    "    elif x % 5 == 0:\n",
    "        ans = \"Buzz\"\n",
    "    else:\n",
    "        ans = x\n",
    "    return ans\n",
    "\n",
    "print(fizz_buzz(2))\n",
    "print(fizz_buzz(3))\n",
    "print(fizz_buzz(5))\n",
    "print(fizz_buzz(15))"
   ]
  },
  {
   "cell_type": "markdown",
   "id": "textile-calvin",
   "metadata": {
    "slideshow": {
     "slide_type": "subslide"
    }
   },
   "source": [
    "## 什麼是迴圈\n",
    "\n",
    "> 迴圈是一種常見的流程控制，雖然在程式中只會出現一次、但卻可能被連續執行多次的程式碼，迴圈中的程式碼會執行特定的次數、執行到特定條件成立時結束或者針對資料結構中的所有內容遍歷。\n",
    "\n",
    "Source: <https://en.wikipedia.org/wiki/Control_flow#Loops>"
   ]
  },
  {
   "cell_type": "markdown",
   "id": "western-footage",
   "metadata": {
    "slideshow": {
     "slide_type": "subslide"
    }
   },
   "source": [
    "## 迴圈的三個要素（與 Slicing 語法相同）\n",
    "\n",
    "- `start` 迴圈的起始\n",
    "- `stop` 迴圈的終止\n",
    "- `step` 迴圈從起始前往終止的方式"
   ]
  },
  {
   "cell_type": "markdown",
   "id": "advised-screw",
   "metadata": {
    "slideshow": {
     "slide_type": "subslide"
    }
   },
   "source": [
    "## `while` 迴圈會在條件被評估為 `True` 的時候重複執行縮排內的程式碼\n",
    "\n",
    "```python\n",
    "i = 0 # start\n",
    "while CONDITION: # stop\n",
    "    # repeated statements\n",
    "    # ...\n",
    "    i += 1 # step\n",
    "```"
   ]
  },
  {
   "cell_type": "markdown",
   "id": "academic-foundation",
   "metadata": {
    "slideshow": {
     "slide_type": "subslide"
    }
   },
   "source": [
    "## 描述迴圈的 `step` 時常用賦值運算符（Assignment operators）\n",
    "\n",
    "- `i += 1` 等同於 `i = i + 1` \n",
    "- `i -= 1` 等同於 `i = i - 1` \n",
    "- `i *= 1` 等同於 `i = i * 1` \n",
    "- `i /= 1` 等同於 `i = i / 1` \n",
    "- ...etc."
   ]
  },
  {
   "cell_type": "code",
   "execution_count": 31,
   "id": "handled-latex",
   "metadata": {
    "slideshow": {
     "slide_type": "subslide"
    }
   },
   "outputs": [
    {
     "name": "stdout",
     "output_type": "stream",
     "text": [
      "1\n",
      "3\n",
      "5\n",
      "7\n",
      "9\n"
     ]
    }
   ],
   "source": [
    "def print_first_five_odds():\n",
    "    i = 1 # start\n",
    "    while i < 11: # stop\n",
    "        print(i)\n",
    "        i += 2 # step\n",
    "\n",
    "print_first_five_odds()"
   ]
  },
  {
   "cell_type": "markdown",
   "id": "minimal-import",
   "metadata": {
    "slideshow": {
     "slide_type": "subslide"
    }
   },
   "source": [
    "## `for` 迴圈會將 `in` 之後的可迭代變數中所有內容遍歷，直到它的尾端\n",
    "\n",
    "```python\n",
    "for i in ITERABLE: # start/stop/step\n",
    "    # repeated statements\n",
    "    # ...\n",
    "```"
   ]
  },
  {
   "cell_type": "markdown",
   "id": "nominated-extension",
   "metadata": {
    "slideshow": {
     "slide_type": "subslide"
    }
   },
   "source": [
    "## 宣告可迭代變數的當下就將迴圈的三個要素交代完整\n",
    "\n",
    "- `start` 可迭代變數的第 0 項資料。\n",
    "- `stop` 可迭代變數的最後一項（第 -1 項）。\n",
    "- `step` 可迭代變數的逗號區隔。"
   ]
  },
  {
   "cell_type": "code",
   "execution_count": 32,
   "id": "asian-invite",
   "metadata": {
    "slideshow": {
     "slide_type": "subslide"
    }
   },
   "outputs": [
    {
     "name": "stdout",
     "output_type": "stream",
     "text": [
      "1\n",
      "3\n",
      "5\n",
      "7\n",
      "9\n"
     ]
    }
   ],
   "source": [
    "def print_first_five_odds():\n",
    "    for i in [1, 3, 5, 7, 9]: # start/stop/step\n",
    "        print(i)\n",
    "\n",
    "print_first_five_odds()"
   ]
  },
  {
   "cell_type": "markdown",
   "id": "romantic-award",
   "metadata": {
    "slideshow": {
     "slide_type": "subslide"
    }
   },
   "source": [
    "## 使用 `range` 函數宣告可迭代變數"
   ]
  },
  {
   "cell_type": "code",
   "execution_count": 33,
   "id": "toxic-branch",
   "metadata": {},
   "outputs": [
    {
     "name": "stdout",
     "output_type": "stream",
     "text": [
      "Help on class range in module builtins:\n",
      "\n",
      "class range(object)\n",
      " |  range(stop) -> range object\n",
      " |  range(start, stop[, step]) -> range object\n",
      " |  \n",
      " |  Return an object that produces a sequence of integers from start (inclusive)\n",
      " |  to stop (exclusive) by step.  range(i, j) produces i, i+1, i+2, ..., j-1.\n",
      " |  start defaults to 0, and stop is omitted!  range(4) produces 0, 1, 2, 3.\n",
      " |  These are exactly the valid indices for a list of 4 elements.\n",
      " |  When step is given, it specifies the increment (or decrement).\n",
      " |  \n",
      " |  Methods defined here:\n",
      " |  \n",
      " |  __bool__(self, /)\n",
      " |      self != 0\n",
      " |  \n",
      " |  __contains__(self, key, /)\n",
      " |      Return key in self.\n",
      " |  \n",
      " |  __eq__(self, value, /)\n",
      " |      Return self==value.\n",
      " |  \n",
      " |  __ge__(self, value, /)\n",
      " |      Return self>=value.\n",
      " |  \n",
      " |  __getattribute__(self, name, /)\n",
      " |      Return getattr(self, name).\n",
      " |  \n",
      " |  __getitem__(self, key, /)\n",
      " |      Return self[key].\n",
      " |  \n",
      " |  __gt__(self, value, /)\n",
      " |      Return self>value.\n",
      " |  \n",
      " |  __hash__(self, /)\n",
      " |      Return hash(self).\n",
      " |  \n",
      " |  __iter__(self, /)\n",
      " |      Implement iter(self).\n",
      " |  \n",
      " |  __le__(self, value, /)\n",
      " |      Return self<=value.\n",
      " |  \n",
      " |  __len__(self, /)\n",
      " |      Return len(self).\n",
      " |  \n",
      " |  __lt__(self, value, /)\n",
      " |      Return self<value.\n",
      " |  \n",
      " |  __ne__(self, value, /)\n",
      " |      Return self!=value.\n",
      " |  \n",
      " |  __reduce__(...)\n",
      " |      Helper for pickle.\n",
      " |  \n",
      " |  __repr__(self, /)\n",
      " |      Return repr(self).\n",
      " |  \n",
      " |  __reversed__(...)\n",
      " |      Return a reverse iterator.\n",
      " |  \n",
      " |  count(...)\n",
      " |      rangeobject.count(value) -> integer -- return number of occurrences of value\n",
      " |  \n",
      " |  index(...)\n",
      " |      rangeobject.index(value) -> integer -- return index of value.\n",
      " |      Raise ValueError if the value is not present.\n",
      " |  \n",
      " |  ----------------------------------------------------------------------\n",
      " |  Static methods defined here:\n",
      " |  \n",
      " |  __new__(*args, **kwargs) from builtins.type\n",
      " |      Create and return a new object.  See help(type) for accurate signature.\n",
      " |  \n",
      " |  ----------------------------------------------------------------------\n",
      " |  Data descriptors defined here:\n",
      " |  \n",
      " |  start\n",
      " |  \n",
      " |  step\n",
      " |  \n",
      " |  stop\n",
      "\n"
     ]
    }
   ],
   "source": [
    "help(range)"
   ]
  },
  {
   "cell_type": "markdown",
   "id": "according-monkey",
   "metadata": {
    "slideshow": {
     "slide_type": "subslide"
    }
   },
   "source": [
    "## 運用程式碼視覺化工具協助理解流程控制\n",
    "\n",
    "<http://www.pythontutor.com/visualize.html#mode=edit>"
   ]
  },
  {
   "cell_type": "markdown",
   "id": "choice-still",
   "metadata": {
    "slideshow": {
     "slide_type": "subslide"
    }
   },
   "source": [
    "## 什麼是可迭代變數\n",
    "\n",
    "可迭代變數（iterable）指的是 Python 中具有一次回傳其中一個資料值特性的類別，常見的可迭代變數包含文字與資料結構。"
   ]
  },
  {
   "cell_type": "code",
   "execution_count": 34,
   "id": "sunrise-given",
   "metadata": {
    "slideshow": {
     "slide_type": "subslide"
    }
   },
   "outputs": [
    {
     "name": "stdout",
     "output_type": "stream",
     "text": [
      "L\n",
      "u\n",
      "k\n",
      "e\n",
      ",\n",
      " \n",
      "u\n",
      "s\n",
      "e\n",
      " \n",
      "t\n",
      "h\n",
      "e\n",
      " \n",
      "F\n",
      "o\n",
      "r\n",
      "c\n",
      "e\n",
      "!\n"
     ]
    }
   ],
   "source": [
    "def iterate_a_string(a_string):\n",
    "    for i in a_string:\n",
    "        print(i)\n",
    "\n",
    "may4th = \"Luke, use the Force!\"\n",
    "iterate_a_string(may4th)"
   ]
  },
  {
   "cell_type": "markdown",
   "id": "preceding-boards",
   "metadata": {
    "slideshow": {
     "slide_type": "subslide"
    }
   },
   "source": [
    "## 如何遍歷一個 `list`、`tuple` 或 `set` 中的值"
   ]
  },
  {
   "cell_type": "code",
   "execution_count": 35,
   "id": "sweet-sperm",
   "metadata": {
    "slideshow": {
     "slide_type": "-"
    }
   },
   "outputs": [
    {
     "name": "stdout",
     "output_type": "stream",
     "text": [
      "2\n",
      "3\n",
      "5\n",
      "===\n",
      "2\n",
      "3\n",
      "5\n",
      "===\n",
      "2\n",
      "3\n",
      "5\n"
     ]
    }
   ],
   "source": [
    "def iterate_a_seq(a_seq):\n",
    "    for i in a_seq:\n",
    "        print(i)\n",
    "\n",
    "iterate_a_seq([2, 3, 5])\n",
    "print(\"===\")\n",
    "iterate_a_seq((2, 3, 5))\n",
    "print(\"===\")\n",
    "iterate_a_seq({2, 3, 5})"
   ]
  },
  {
   "cell_type": "markdown",
   "id": "blank-worker",
   "metadata": {
    "slideshow": {
     "slide_type": "subslide"
    }
   },
   "source": [
    "## 如何遍歷一個 `dict`\n",
    "\n",
    "善用三個常用方法：\n",
    "\n",
    "1. `.keys()`\n",
    "2. `.values()`\n",
    "3. `.items()`"
   ]
  },
  {
   "cell_type": "code",
   "execution_count": 36,
   "id": "friendly-extreme",
   "metadata": {
    "slideshow": {
     "slide_type": "-"
    }
   },
   "outputs": [],
   "source": [
    "the_shawshank_redemption = {\n",
    "    'title': 'The Shawshank Redemption',\n",
    "    'year': 1994,\n",
    "    'rating': 9.3,\n",
    "    'director': 'Frank Darabont'\n",
    "}"
   ]
  },
  {
   "cell_type": "code",
   "execution_count": 37,
   "id": "sweet-praise",
   "metadata": {
    "slideshow": {
     "slide_type": "subslide"
    }
   },
   "outputs": [
    {
     "name": "stdout",
     "output_type": "stream",
     "text": [
      "title\n",
      "year\n",
      "rating\n",
      "director\n"
     ]
    }
   ],
   "source": [
    "for k in the_shawshank_redemption.keys():\n",
    "    print(k)"
   ]
  },
  {
   "cell_type": "code",
   "execution_count": 38,
   "id": "professional-machine",
   "metadata": {
    "slideshow": {
     "slide_type": "subslide"
    }
   },
   "outputs": [
    {
     "name": "stdout",
     "output_type": "stream",
     "text": [
      "The Shawshank Redemption\n",
      "1994\n",
      "9.3\n",
      "Frank Darabont\n"
     ]
    }
   ],
   "source": [
    "for v in the_shawshank_redemption.values():\n",
    "    print(v)"
   ]
  },
  {
   "cell_type": "code",
   "execution_count": 39,
   "id": "racial-movie",
   "metadata": {
    "slideshow": {
     "slide_type": "subslide"
    }
   },
   "outputs": [
    {
     "name": "stdout",
     "output_type": "stream",
     "text": [
      "title: The Shawshank Redemption\n",
      "year: 1994\n",
      "rating: 9.3\n",
      "director: Frank Darabont\n"
     ]
    }
   ],
   "source": [
    "for k, v in the_shawshank_redemption.items():\n",
    "    print(\"{}: {}\".format(k, v))"
   ]
  },
  {
   "cell_type": "markdown",
   "id": "legal-stockholm",
   "metadata": {
    "slideshow": {
     "slide_type": "subslide"
    }
   },
   "source": [
    "## 不可迭代的變數\n",
    "\n",
    "- `int`\n",
    "- `float`\n",
    "- `bool`"
   ]
  },
  {
   "cell_type": "code",
   "execution_count": 40,
   "id": "strong-lemon",
   "metadata": {
    "slideshow": {
     "slide_type": "subslide"
    }
   },
   "outputs": [
    {
     "name": "stdout",
     "output_type": "stream",
     "text": [
      "<class 'int'> is not iterable\n",
      "<class 'float'> is not iterable\n",
      "<class 'bool'> is not iterable\n",
      "<class 'bool'> is not iterable\n"
     ]
    }
   ],
   "source": [
    "def is_x_iterable(x):\n",
    "    try:\n",
    "        I = iter(x)\n",
    "        return True\n",
    "    except:\n",
    "        x_type = type(x)\n",
    "        return \"{} is not iterable\".format(x_type)\n",
    "\n",
    "print(is_x_iterable(5566))\n",
    "print(is_x_iterable(5566.0))\n",
    "print(is_x_iterable(True))\n",
    "print(is_x_iterable(False))"
   ]
  },
  {
   "cell_type": "markdown",
   "id": "dental-march",
   "metadata": {
    "slideshow": {
     "slide_type": "subslide"
    }
   },
   "source": [
    "## 常見的迴圈應用\n",
    "\n",
    "- 合併\n",
    "- 計數\n",
    "- 加總\n",
    "- 遍歷複雜的資料結構"
   ]
  },
  {
   "cell_type": "markdown",
   "id": "attempted-emerald",
   "metadata": {
    "slideshow": {
     "slide_type": "subslide"
    }
   },
   "source": [
    "## 常見的迴圈應用：合併\n",
    "\n",
    "透過 `list` 的 `.append()` 方法合併。"
   ]
  },
  {
   "cell_type": "code",
   "execution_count": 41,
   "id": "sharing-shape",
   "metadata": {},
   "outputs": [
    {
     "data": {
      "text/plain": [
       "[55, 57, 59, 61, 63, 65]"
      ]
     },
     "execution_count": 41,
     "metadata": {},
     "output_type": "execute_result"
    }
   ],
   "source": [
    "def find_odds_between_x_y(x, y):\n",
    "    odds = []\n",
    "    for i in range(x, y+1):\n",
    "        if i % 2 == 1:\n",
    "            odds.append(i)\n",
    "    return odds\n",
    "\n",
    "find_odds_between_x_y(55, 66)"
   ]
  },
  {
   "cell_type": "markdown",
   "id": "metallic-large",
   "metadata": {
    "slideshow": {
     "slide_type": "subslide"
    }
   },
   "source": [
    "## 常見的迴圈應用：計數\n",
    "\n",
    "透過 `count += 1` 計數。"
   ]
  },
  {
   "cell_type": "code",
   "execution_count": 42,
   "id": "continuous-dutch",
   "metadata": {},
   "outputs": [
    {
     "data": {
      "text/plain": [
       "6"
      ]
     },
     "execution_count": 42,
     "metadata": {},
     "output_type": "execute_result"
    }
   ],
   "source": [
    "def count_odds_between_x_y(x, y):\n",
    "    count = 0\n",
    "    for i in range(x, y+1):\n",
    "        if i % 2 == 1:\n",
    "            count += 1\n",
    "    return count\n",
    "\n",
    "count_odds_between_x_y(55, 66)"
   ]
  },
  {
   "cell_type": "markdown",
   "id": "endless-recipe",
   "metadata": {
    "slideshow": {
     "slide_type": "subslide"
    }
   },
   "source": [
    "## 常見的迴圈應用：加總\n",
    "\n",
    "透過 `summation += i` 加總。"
   ]
  },
  {
   "cell_type": "code",
   "execution_count": 43,
   "id": "correct-ridge",
   "metadata": {},
   "outputs": [
    {
     "data": {
      "text/plain": [
       "360"
      ]
     },
     "execution_count": 43,
     "metadata": {},
     "output_type": "execute_result"
    }
   ],
   "source": [
    "def sum_odds_between_x_y(x, y):\n",
    "    summation = 0\n",
    "    for i in range(x, y+1):\n",
    "        if i % 2 == 1:\n",
    "            summation += i\n",
    "    return summation\n",
    "\n",
    "sum_odds_between_x_y(55, 66)"
   ]
  },
  {
   "cell_type": "markdown",
   "id": "flying-forestry",
   "metadata": {
    "slideshow": {
     "slide_type": "subslide"
    }
   },
   "source": [
    "## 常見的迴圈應用：遍歷複雜的資料結構\n",
    "\n",
    "透過巢狀迴圈遍歷複雜的資料結構。"
   ]
  },
  {
   "cell_type": "code",
   "execution_count": 44,
   "id": "usual-aerospace",
   "metadata": {
    "slideshow": {
     "slide_type": "-"
    }
   },
   "outputs": [
    {
     "name": "stdout",
     "output_type": "stream",
     "text": [
      "Batman Begins\n",
      "The Dark Knight\n",
      "The Dark Knight Rises\n",
      "June 15, 2005\n",
      "July 18, 2008\n",
      "July 20, 2012\n",
      "Christopher Nolan\n",
      "Christopher Nolan\n",
      "Christopher Nolan\n"
     ]
    }
   ],
   "source": [
    "batman_trilogy = {\n",
    "    \"titles\": [\"Batman Begins\", \"The Dark Knight\", \"The Dark Knight Rises\"],\n",
    "    \"release_dates\": [\"June 15, 2005\", \"July 18, 2008\", \"July 20, 2012\"],\n",
    "    \"director\": [\"Christopher Nolan\", \"Christopher Nolan\", \"Christopher Nolan\"]\n",
    "}\n",
    "for v in batman_trilogy.values():\n",
    "    for i in v:\n",
    "        print(i)"
   ]
  }
 ],
 "metadata": {
  "celltoolbar": "Slideshow",
  "kernelspec": {
   "display_name": "Python 3",
   "language": "python",
   "name": "python3"
  },
  "language_info": {
   "codemirror_mode": {
    "name": "ipython",
    "version": 3
   },
   "file_extension": ".py",
   "mimetype": "text/x-python",
   "name": "python",
   "nbconvert_exporter": "python",
   "pygments_lexer": "ipython3",
   "version": "3.8.5"
  }
 },
 "nbformat": 4,
 "nbformat_minor": 5
}
