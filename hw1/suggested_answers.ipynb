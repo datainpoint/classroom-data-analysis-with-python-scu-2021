{
 "cells": [
  {
   "cell_type": "markdown",
   "metadata": {
    "deletable": false,
    "editable": false
   },
   "source": [
    "# Introduction to Python\n",
    "\n",
    "> Homework 1, SCU, 2021.\n",
    "\n",
    "Kuo, Yao-Jen <yaojenkuo@datainpoint.com> from [DATAINPOINT](https://www.datainpoint.com)"
   ]
  },
  {
   "cell_type": "markdown",
   "metadata": {
    "deletable": false,
    "editable": false
   },
   "source": [
    "## Instructions\n",
    "\n",
    "- We've imported necessary modules/libraries at the beginning of each exercise.\n",
    "- We've put necessary files(if any) in the working directory of each exercise.\n",
    "- We've defined the names of functions/inputs/arguments for you.\n",
    "- Write down your solution between the comments `### BEGIN SOLUTION` and `### END SOLUTION`.\n",
    "- Running tests to see if your solutions are right: Kernel -> Restart & Run All -> Restart and Run All Cells.\n",
    "- You can run tests after each question or after finishing all questions."
   ]
  },
  {
   "cell_type": "code",
   "execution_count": 1,
   "metadata": {
    "deletable": false,
    "editable": false
   },
   "outputs": [],
   "source": [
    "import unittest\n",
    "import json"
   ]
  },
  {
   "cell_type": "markdown",
   "metadata": {},
   "source": [
    "## 00. Define a function named `find_bmi_label(bmi)` which returns the description of BMI according to BMI.\n",
    "\n",
    "https://en.wikipedia.org/wiki/Body_mass_index#/media/File:BMI_chart.svg\n",
    "\n",
    "- Expected inputs：a numeric `bmi`\n",
    "- Expected outputs：a string"
   ]
  },
  {
   "cell_type": "code",
   "execution_count": 2,
   "metadata": {},
   "outputs": [],
   "source": [
    "def find_bmi_label(bmi):\n",
    "    \"\"\"\n",
    "    >>> find_bmi_label(31.51) # Shaquille O'Neal in his prime\n",
    "    'Obese'\n",
    "    >>> find_bmi_label(32.90) # Zion Williamson \n",
    "    'Obese'\n",
    "    >>> find_bmi_label(26.63) # LeBron James\n",
    "    'Overweight'\n",
    "    >>> find_bmi_label(24.71) # Giannis Antetokounmpo\n",
    "    'Normal weight'\n",
    "    >>> find_bmi_label(17.05) # Manute Bol\n",
    "    'Underweight'\n",
    "    \"\"\"\n",
    "    ### BEGIN SOLUTION\n",
    "    if bmi > 30:\n",
    "        bmi_label = 'Obese'\n",
    "    elif bmi > 25:\n",
    "        bmi_label = 'Overweight'\n",
    "    elif bmi > 18.5:\n",
    "        bmi_label = 'Normal weight'\n",
    "    else:\n",
    "        bmi_label = 'Underweight'\n",
    "    return bmi_label\n",
    "    ### END SOLUTION"
   ]
  },
  {
   "cell_type": "markdown",
   "metadata": {},
   "source": [
    "## 01. Define a function named `fizz_buzz(x)` which returns 'Fizz' when `x` can be divided by 3, returns 'Buzz' when `x` can be divided by 5, returns 'Fizz Buzz' when `x` can be divided by 15. Otherwise, the function returns `x` itself\n",
    "\n",
    "- Expected inputs：an integer `x`\n",
    "- Expected outputs：an integer or a string"
   ]
  },
  {
   "cell_type": "code",
   "execution_count": 3,
   "metadata": {},
   "outputs": [],
   "source": [
    "def fizz_buzz(x):\n",
    "    \"\"\"\n",
    "    >>> fizz_buzz(3)\n",
    "    'Fizz'\n",
    "    >>> fizz_buzz(5)\n",
    "    'Buzz'\n",
    "    >>> fizz_buzz(15)\n",
    "    'Fizz Buzz'\n",
    "    >>> fizz_buzz(16)\n",
    "    16\n",
    "    \"\"\"\n",
    "    ### BEGIN SOLUTION\n",
    "    if x % 15 == 0:\n",
    "        func_output = 'Fizz Buzz'\n",
    "    elif x % 3 == 0:\n",
    "        func_output = 'Fizz'\n",
    "    elif x % 5 == 0:\n",
    "        func_output = 'Buzz'\n",
    "    else:\n",
    "        func_output = x\n",
    "    return func_output\n",
    "    ### END SOLUTION"
   ]
  },
  {
   "cell_type": "markdown",
   "metadata": {},
   "source": [
    "## 02. Define a function named `check_types(x)` which returns the type of `x` in a string format.\n",
    "\n",
    "PS You may reach out to built-in function `isinstance()`.\n",
    "\n",
    "<https://docs.python.org/3/library/functions.html#isinstance>\n",
    "\n",
    "- Expected inputs：an unknown type of `x`\n",
    "- Expected outputs：a string"
   ]
  },
  {
   "cell_type": "code",
   "execution_count": 4,
   "metadata": {},
   "outputs": [],
   "source": [
    "def check_types(x):\n",
    "    \"\"\"\n",
    "    >>> check_types(1)\n",
    "    'int'\n",
    "    >>> check_types(1.0)\n",
    "    'float'\n",
    "    >>> check_types(True)\n",
    "    'bool'\n",
    "    >>> check_types(False)\n",
    "    'bool'\n",
    "    >>> check_types('5566')\n",
    "    'str'\n",
    "    >>> check_types(None)\n",
    "    'NoneType'\n",
    "    \"\"\"\n",
    "    ### BEGIN SOLUTION\n",
    "    if isinstance(x, bool):\n",
    "        x_type = 'bool'\n",
    "    elif isinstance(x, int):\n",
    "        x_type = 'int'\n",
    "    elif isinstance(x, float):\n",
    "        x_type = 'float'\n",
    "    elif isinstance(x, str):\n",
    "        x_type = 'str'\n",
    "    elif x == None:\n",
    "        x_type = 'NoneType'\n",
    "    return x_type\n",
    "    ### END SOLUTION"
   ]
  },
  {
   "cell_type": "markdown",
   "metadata": {},
   "source": [
    "## 03. Define a function named `collect_divisors(x)` which returns the all positive divisors of x\n",
    "\n",
    "<https://en.wikipedia.org/wiki/Divisor>\n",
    "\n",
    "- Expected inputs：an integer `x`\n",
    "- Expected outputs：a list"
   ]
  },
  {
   "cell_type": "code",
   "execution_count": 5,
   "metadata": {},
   "outputs": [],
   "source": [
    "def collect_divisors(x):\n",
    "    \"\"\"\n",
    "    >>> collect_divisors(1)\n",
    "    [1]\n",
    "    >>> collect_divisors(2)\n",
    "    [1, 2]\n",
    "    >>> collect_divisors(3)\n",
    "    [1, 3]\n",
    "    >>> collect_divisors(4)\n",
    "    [1, 2, 4]\n",
    "    >>> collect_divisors(5)\n",
    "    [1, 5]\n",
    "    \"\"\"\n",
    "    ### BEGIN SOLUTION\n",
    "    divisors = [i for i in range(1, x + 1) if x % i == 0]\n",
    "    return divisors\n",
    "    ### END SOLUTION"
   ]
  },
  {
   "cell_type": "markdown",
   "metadata": {},
   "source": [
    "## 04. Define a function named `is_prime(x)` which returns whether x is a prime number or not\n",
    "\n",
    "https://en.wikipedia.org/wiki/Prime_number\n",
    "\n",
    "- Expected inputs：an integer `x`\n",
    "- Expected outputs：a bool"
   ]
  },
  {
   "cell_type": "code",
   "execution_count": 6,
   "metadata": {},
   "outputs": [],
   "source": [
    "def is_prime(x):\n",
    "    \"\"\"\n",
    "    >>> is_prime(1)\n",
    "    False\n",
    "    >>> is_prime(2)\n",
    "    True\n",
    "    >>> is_prime(3)\n",
    "    True\n",
    "    >>> is_prime(4)\n",
    "    False\n",
    "    >>> is_prime(5)\n",
    "    True\n",
    "    \"\"\"\n",
    "    ### BEGIN SOLUTION\n",
    "    divisors = [i for i in range(1, x + 1) if x % i == 0]\n",
    "    return len(divisors) == 2\n",
    "    ### END SOLUTION"
   ]
  },
  {
   "cell_type": "markdown",
   "metadata": {},
   "source": [
    "## 05. Define a function named `collect_primes(x, y)` which collects primes between x and y\n",
    "\n",
    "- Expected inputs：2 integers `x` and `y`\n",
    "- Expected outputs：a list"
   ]
  },
  {
   "cell_type": "code",
   "execution_count": 7,
   "metadata": {},
   "outputs": [],
   "source": [
    "def collect_primes(x, y):\n",
    "    \"\"\"\n",
    "    >>> collect_primes(1, 5)\n",
    "    [2, 3, 5]\n",
    "    >>> collect_primes(2, 12)\n",
    "    [2, 3, 5, 7, 11]\n",
    "    >>> collect_primes(55, 66)\n",
    "    [59, 61]\n",
    "    >>> collect_primes(83, 97)\n",
    "    [83, 89, 97]\n",
    "    \"\"\"\n",
    "    ### BEGIN SOLUTION\n",
    "    primes = [i for i in range(x, y + 1) if is_prime(i)] \n",
    "    return primes\n",
    "    ### END SOLUTION"
   ]
  },
  {
   "cell_type": "markdown",
   "metadata": {},
   "source": [
    "## 06. Define a function named `reverse_vowels(x)` converts the vowels in a word from upper-cased to lower-cased, and lower-cased to upper-cased.\n",
    "\n",
    "PS You may reach out to string's built-in function `x.swapcase()`.\n",
    "\n",
    "<https://docs.python.org/3/library/stdtypes.html#str.swapcase>\n",
    "\n",
    "- Expected inputs：a string `x`\n",
    "- Expected outputs：a string"
   ]
  },
  {
   "cell_type": "code",
   "execution_count": 8,
   "metadata": {},
   "outputs": [],
   "source": [
    "def reverse_vowels(x):\n",
    "    \"\"\"\n",
    "    >>> reverse_vowels('Luke Skywalker')\n",
    "    'LUkE SkywAlkEr'\n",
    "    >>> reverse_vowels('Darth Vadar')\n",
    "    'DArth VAdAr'\n",
    "    >>> reverse_vowels('The Avengers')\n",
    "    'ThE avEngErs'\n",
    "    \"\"\"\n",
    "    ### BEGIN SOLUTION\n",
    "    vowels = {'a', 'e', 'i', 'o', 'u'}\n",
    "    ans = ''\n",
    "    for s in x:\n",
    "        if s.lower() in vowels:\n",
    "            ans += s.swapcase()\n",
    "        else:\n",
    "            ans += s\n",
    "    return ans\n",
    "    ### END SOLUTION"
   ]
  },
  {
   "cell_type": "markdown",
   "metadata": {},
   "source": [
    "## 07. Define a function named `median(x)` which returns the median value of a given list\n",
    "\n",
    "<https://en.wikipedia.org/wiki/Median>\n",
    "\n",
    "- Expected inputs：a list `x`\n",
    "- Expected outputs：a numeric"
   ]
  },
  {
   "cell_type": "code",
   "execution_count": 9,
   "metadata": {},
   "outputs": [],
   "source": [
    "def median(x):\n",
    "    \"\"\"\n",
    "    >>> median([2, 3, 5, 7, 11])\n",
    "    5\n",
    "    >>> median([2, 3, 5, 7, 11, 13])\n",
    "    6\n",
    "    >>> median([11, 13, 17, 2, 3, 5, 7])\n",
    "    7\n",
    "    >>> median([7, 11, 13, 17, 19, 2, 3, 5])\n",
    "    9\n",
    "    \"\"\"\n",
    "    ### BEGIN SOLUTION\n",
    "    sorted_x = sorted(x)\n",
    "    len_x = len(x)\n",
    "    if len_x % 2 == 1:\n",
    "        median_idx = len_x // 2\n",
    "        return sorted_x[median_idx]\n",
    "    else:\n",
    "        median_idx_0, median_idx_1 = len_x // 2 - 1, len_x // 2\n",
    "        return (sorted_x[median_idx_0] + sorted_x[median_idx_1]) / 2\n",
    "    ### END SOLUTION"
   ]
  },
  {
   "cell_type": "markdown",
   "metadata": {},
   "source": [
    "## 08. Define a function named `idxmax(x)` which returns the index of the max value of a given list\n",
    "\n",
    "- Expected inputs：a list `x`\n",
    "- Expected outputs：an integer or a list of integers"
   ]
  },
  {
   "cell_type": "code",
   "execution_count": 10,
   "metadata": {},
   "outputs": [],
   "source": [
    "def idxmax(x):\n",
    "    \"\"\"\n",
    "    >>> idxmax([2, 3, 5, 7, 11])\n",
    "    4\n",
    "    >>> idxmax([11, 7, 5, 3, 2])\n",
    "    0\n",
    "    >>> idxmax([5, 3, 2, 11, 7])\n",
    "    3\n",
    "    >>> idxmax([2, 3, 5, 7, 11, 11, 11])\n",
    "    [4, 5, 6]\n",
    "    >>> idxmax([11, 2, 3, 11, 5, 7, 11])\n",
    "    [0, 3, 6]\n",
    "    \"\"\"\n",
    "    ### BEGIN SOLUTION\n",
    "    max_val = max(x)\n",
    "    max_idx = [i for i, v in enumerate(x) if v == max_val]\n",
    "    if len(max_idx) == 1:\n",
    "        max_idx = max_idx[0]\n",
    "    return max_idx\n",
    "    ### END SOLUTION"
   ]
  },
  {
   "cell_type": "markdown",
   "metadata": {},
   "source": [
    "## 09. Define a function named `mode(x)` which returns the mode of a given list\n",
    "\n",
    "<https://en.wikipedia.org/wiki/Mode_(statistics)>\n",
    "\n",
    "- Expected inputs：a list `x`\n",
    "- Expected outputs：an integer or a list of integers"
   ]
  },
  {
   "cell_type": "code",
   "execution_count": 11,
   "metadata": {},
   "outputs": [],
   "source": [
    "def mode(x):\n",
    "    \"\"\"\n",
    "    >>> mode([2, 2, 3, 5, 7, 11])\n",
    "    2\n",
    "    >>> mode([2, 3, 3, 5, 7, 11])\n",
    "    3\n",
    "    >>> mode([2, 2, 3, 3, 5, 7, 11])\n",
    "    [2, 3]\n",
    "    >>> mode([2, 2, 3, 3, 5, 7, 7, 7, 11, 11, 11])\n",
    "    [7, 11]\n",
    "    \"\"\"\n",
    "    ### BEGIN SOLUTION\n",
    "    count_dict = dict()\n",
    "    for i in x:\n",
    "        if i in count_dict.keys():\n",
    "            count_dict[i] += 1\n",
    "        else:\n",
    "            count_dict[i] = 1\n",
    "    max_counts = max(count_dict.values())\n",
    "    modes = []\n",
    "    for k, v in count_dict.items():\n",
    "        if v == max_counts:\n",
    "            modes.append(k)\n",
    "    if len(modes) == 1:\n",
    "        modes = modes[0]\n",
    "    return modes\n",
    "    ### END SOLUTION"
   ]
  },
  {
   "cell_type": "markdown",
   "metadata": {},
   "source": [
    "## 10. Define a function named `load_teams_json` that is able to load `teams.json` in our working directory and returns a `dict`.\n",
    "\n",
    "PS You may reach out to standard library `json` <https://docs.python.org/3/library/json.html> for help.(Actually we've imported for you in the beginning!)\n",
    "\n",
    "- Expected inputs: a file `teams.json`\n",
    "- Expected outputs：a dict"
   ]
  },
  {
   "cell_type": "code",
   "execution_count": 12,
   "metadata": {},
   "outputs": [],
   "source": [
    "def load_teams_json(json_file):\n",
    "    \"\"\"\n",
    "    >>> teams = load_teams_json('teams.json')\n",
    "    >>> type(teams)\n",
    "    dict\n",
    "    >>> len(teams)\n",
    "    2\n",
    "    >>> teams.keys()\n",
    "    dict_keys(['_internal', 'league'])\n",
    "    \"\"\"\n",
    "    ### BEGIN SOLUTION\n",
    "    with open(json_file) as f:\n",
    "        teams_json = json.load(f)\n",
    "    return teams_json\n",
    "    ### END SOLUTION"
   ]
  },
  {
   "cell_type": "markdown",
   "metadata": {},
   "source": [
    "## 11. Define a function named `find_all_star_teams` that is able to extract 2 All-Star teams: Team Durant and Team LeBron.\n",
    "\n",
    "- Expected inputs: a file `teams.json`\n",
    "- Expected outputs：a list"
   ]
  },
  {
   "cell_type": "code",
   "execution_count": 13,
   "metadata": {},
   "outputs": [],
   "source": [
    "def find_all_star_teams(json_file):\n",
    "    \"\"\"\n",
    "    >>> all_star_teams = find_all_star_teams('teams.json')\n",
    "    >>> type(all_star_teams)\n",
    "    list\n",
    "    >>> len(all_star_teams)\n",
    "    2\n",
    "    >>> all_star_teams[0]\n",
    "    {'isNBAFranchise': False,\n",
    "     'isAllStar': True,\n",
    "     'city': 'Team',\n",
    "     'altCityName': 'Team',\n",
    "     'fullName': 'Team Team Durant',\n",
    "     'tricode': 'DRT',\n",
    "     'teamId': '1610616833',\n",
    "     'nickname': 'Team Durant',\n",
    "     'urlName': 'team_durant',\n",
    "     'teamShortName': 'Team Durant',\n",
    "     'confName': 'East',\n",
    "     'divName': 'East'}\n",
    "    \"\"\"\n",
    "    ### BEGIN SOLUTION\n",
    "    teams_json = load_teams_json(json_file)\n",
    "    teams = teams_json['league']['standard']\n",
    "    all_star_teams = [team for team in teams if team['isAllStar']]\n",
    "    return all_star_teams\n",
    "    ### END SOLUTION"
   ]
  },
  {
   "cell_type": "markdown",
   "metadata": {},
   "source": [
    "## Define a function named `find_team_full_names` that is able to extract the full names of 30 NBA teams.\n",
    "\n",
    "PS Exclude 2 All-Star teams: Team Durant and Team LeBron.\n",
    "\n",
    "- Expected inputs: a file `teams.json`\n",
    "- Expected outputs：a list"
   ]
  },
  {
   "cell_type": "code",
   "execution_count": 14,
   "metadata": {},
   "outputs": [],
   "source": [
    "def find_team_full_names(json_file):\n",
    "    \"\"\"\n",
    "    >>> team_full_names = find_team_full_names('teams.json')\n",
    "    >>> type(team_full_names)\n",
    "    list\n",
    "    >>> len(team_full_names)\n",
    "    30\n",
    "    >>> team_full_names[:5]\n",
    "    ['Atlanta Hawks',\n",
    "     'Boston Celtics',\n",
    "     'Brooklyn Nets',\n",
    "     'Charlotte Hornets',\n",
    "     'Chicago Bulls']\n",
    "    >>> team_full_names[-5:]\n",
    "    ['Sacramento Kings',\n",
    "     'San Antonio Spurs',\n",
    "     'Toronto Raptors',\n",
    "     'Utah Jazz',\n",
    "     'Washington Wizards']\n",
    "    \"\"\"\n",
    "    ### BEGIN SOLUTION\n",
    "    teams_json = load_teams_json(json_file)\n",
    "    teams = teams_json['league']['standard']\n",
    "    full_names = [team['fullName'] for team in teams if team['isNBAFranchise']]\n",
    "    return full_names\n",
    "    ### END SOLUTION"
   ]
  },
  {
   "cell_type": "markdown",
   "metadata": {
    "deletable": false,
    "editable": false
   },
   "source": [
    "## Run tests!\n",
    "\n",
    "Kernel -> Restart & Run All."
   ]
  },
  {
   "cell_type": "code",
   "execution_count": 15,
   "metadata": {
    "deletable": false,
    "editable": false
   },
   "outputs": [
    {
     "name": "stderr",
     "output_type": "stream",
     "text": [
      "test_00_find_bmi_label (__main__.TestHomeworkOne) ... ok\n",
      "test_01_fizz_buzz (__main__.TestHomeworkOne) ... ok\n",
      "test_02_check_types (__main__.TestHomeworkOne) ... ok\n",
      "test_03_collect_divisors (__main__.TestHomeworkOne) ... ok\n",
      "test_04_is_prime (__main__.TestHomeworkOne) ... ok\n",
      "test_05_collect_primes (__main__.TestHomeworkOne) ... ok\n",
      "test_06_reverse_vowel (__main__.TestHomeworkOne) ... ok\n",
      "test_07_median (__main__.TestHomeworkOne) ... ok\n",
      "test_08_idxmax (__main__.TestHomeworkOne) ... ok\n",
      "test_09_mode (__main__.TestHomeworkOne) ... ok\n",
      "test_10_load_teams_json (__main__.TestHomeworkOne) ... ok\n",
      "test_11_find_all_star_teams (__main__.TestHomeworkOne) ... ok\n",
      "test_12_find_team_full_names (__main__.TestHomeworkOne) ... ok\n",
      "\n",
      "----------------------------------------------------------------------\n",
      "Ran 13 tests in 0.018s\n",
      "\n",
      "OK\n"
     ]
    }
   ],
   "source": [
    "class TestHomeworkOne(unittest.TestCase):\n",
    "    def test_00_find_bmi_label(self):\n",
    "        self.assertEqual(find_bmi_label(31.51), 'Obese')\n",
    "        self.assertEqual(find_bmi_label(32.90), 'Obese')\n",
    "        self.assertEqual(find_bmi_label(26.63), 'Overweight')\n",
    "        self.assertEqual(find_bmi_label(24.71), 'Normal weight')\n",
    "        self.assertEqual(find_bmi_label(17.05), 'Underweight')\n",
    "    def test_01_fizz_buzz(self):\n",
    "        self.assertEqual(fizz_buzz(3), 'Fizz')\n",
    "        self.assertEqual(fizz_buzz(5), 'Buzz')\n",
    "        self.assertEqual(fizz_buzz(15), 'Fizz Buzz')\n",
    "        self.assertEqual(fizz_buzz(16), 16)\n",
    "    def test_02_check_types(self):\n",
    "        self.assertEqual(check_types(1), 'int')\n",
    "        self.assertEqual(check_types(1.0), 'float')\n",
    "        self.assertEqual(check_types(True), 'bool')\n",
    "        self.assertEqual(check_types(False), 'bool')\n",
    "        self.assertEqual(check_types('5566'), 'str')\n",
    "        self.assertEqual(check_types(None), 'NoneType')\n",
    "    def test_03_collect_divisors(self):\n",
    "        self.assertEqual(collect_divisors(1), [1])\n",
    "        self.assertEqual(collect_divisors(2), [1, 2])\n",
    "        self.assertEqual(collect_divisors(3), [1, 3])\n",
    "        self.assertEqual(collect_divisors(4), [1, 2, 4])\n",
    "        self.assertEqual(collect_divisors(5), [1, 5])\n",
    "    def test_04_is_prime(self):\n",
    "        self.assertFalse(is_prime(1))\n",
    "        self.assertTrue(is_prime(2))\n",
    "        self.assertTrue(is_prime(3))\n",
    "        self.assertFalse(is_prime(4))\n",
    "        self.assertTrue(is_prime(5))\n",
    "    def test_05_collect_primes(self):\n",
    "        self.assertEqual(collect_primes(1, 5), [2, 3, 5])\n",
    "        self.assertEqual(collect_primes(2, 12), [2, 3, 5, 7, 11])\n",
    "        self.assertEqual(collect_primes(55, 66), [59, 61])\n",
    "        self.assertEqual(collect_primes(83, 97), [83, 89, 97])\n",
    "    def test_06_reverse_vowel(self):\n",
    "        self.assertEqual(reverse_vowels('Luke Skywalker'), 'LUkE SkywAlkEr')\n",
    "        self.assertEqual(reverse_vowels('The Avengers'), 'ThE avEngErs')\n",
    "        self.assertEqual(reverse_vowels('Darth Vadar'), 'DArth VAdAr')\n",
    "    def test_07_median(self):\n",
    "        self.assertEqual(median([2, 3, 5, 7, 11]), 5)\n",
    "        self.assertEqual(median([2, 3, 5, 7, 11, 13]), 6)\n",
    "        self.assertEqual(median([11, 13, 17, 2, 3, 5, 7]), 7)\n",
    "        self.assertEqual(median([7, 11, 13, 17, 19, 2, 3, 5]), 9)\n",
    "    def test_08_idxmax(self):\n",
    "        self.assertEqual(idxmax([2, 3, 5, 7, 11]), 4)\n",
    "        self.assertEqual(idxmax([11, 7, 5, 3, 2]), 0)\n",
    "        self.assertEqual(idxmax([5, 3, 2, 11, 7]), 3)\n",
    "        self.assertEqual(idxmax([2, 3, 5, 7, 11, 11, 11]), [4, 5, 6])\n",
    "        self.assertEqual(idxmax([11, 2, 3, 11, 5, 7, 11]), [0, 3, 6])\n",
    "    def test_09_mode(self):\n",
    "        self.assertEqual(mode([2, 2, 3, 5, 7, 11]), 2)\n",
    "        self.assertEqual(mode([2, 3, 3, 5, 7, 11]), 3)\n",
    "        self.assertEqual(mode([2, 2, 3, 3, 5, 7, 11]), [2, 3])\n",
    "        self.assertEqual(mode([2, 2, 3, 3, 5, 7, 7, 7, 11, 11, 11]), [7, 11])\n",
    "    def test_10_load_teams_json(self):\n",
    "        teams = load_teams_json('teams.json')\n",
    "        self.assertIsInstance(teams, dict)\n",
    "        self.assertEqual(len(teams), 2)\n",
    "        keys = set(teams.keys())\n",
    "        self.assertTrue('_internal' in keys)\n",
    "        self.assertTrue('league' in keys)\n",
    "    def test_11_find_all_star_teams(self):\n",
    "        all_star_teams = find_all_star_teams('teams.json')\n",
    "        self.assertIsInstance(all_star_teams, list)\n",
    "        self.assertEqual(len(all_star_teams), 2)\n",
    "        self.assertEqual(len(all_star_teams[0]), 12)\n",
    "        self.assertEqual(len(all_star_teams[1]), 12)\n",
    "        self.assertEqual(all_star_teams[0]['teamShortName'], 'Team Durant')\n",
    "        self.assertEqual(all_star_teams[1]['teamShortName'], 'Team LeBron')\n",
    "    def test_12_find_team_full_names(self):\n",
    "        team_full_names = find_team_full_names('teams.json')\n",
    "        self.assertIsInstance(team_full_names, list)\n",
    "        self.assertEqual(len(team_full_names), 30)\n",
    "        self.assertTrue('Atlanta Hawks' in team_full_names)\n",
    "        self.assertTrue('Boston Celtics' in team_full_names)\n",
    "        self.assertTrue('Brooklyn Nets' in team_full_names)\n",
    "        self.assertTrue('Toronto Raptors' in team_full_names)\n",
    "        self.assertTrue('Utah Jazz' in team_full_names)\n",
    "        self.assertTrue('Washington Wizards' in team_full_names)\n",
    "\n",
    "suite = unittest.TestLoader().loadTestsFromTestCase(TestHomeworkOne)\n",
    "runner = unittest.TextTestRunner(verbosity=2)\n",
    "test_results = runner.run(suite)\n",
    "number_of_failures = len(test_results.failures)\n",
    "number_of_errors = len(test_results.errors)\n",
    "number_of_test_runs = test_results.testsRun\n",
    "number_of_successes = number_of_test_runs - (number_of_failures + number_of_errors)"
   ]
  },
  {
   "cell_type": "code",
   "execution_count": 16,
   "metadata": {
    "deletable": false,
    "editable": false
   },
   "outputs": [
    {
     "name": "stdout",
     "output_type": "stream",
     "text": [
      "You've got 13 successes among 13 questions.\n"
     ]
    }
   ],
   "source": [
    "print(\"You've got {} successes among {} questions.\".format(number_of_successes, number_of_test_runs))"
   ]
  }
 ],
 "metadata": {
  "kernelspec": {
   "display_name": "Python 3",
   "language": "python",
   "name": "python3"
  },
  "language_info": {
   "codemirror_mode": {
    "name": "ipython",
    "version": 3
   },
   "file_extension": ".py",
   "mimetype": "text/x-python",
   "name": "python",
   "nbconvert_exporter": "python",
   "pygments_lexer": "ipython3",
   "version": "3.8.5"
  }
 },
 "nbformat": 4,
 "nbformat_minor": 4
}
